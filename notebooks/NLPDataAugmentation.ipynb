{
 "cells": [
  {
   "cell_type": "raw",
   "source": [
    "# Portafolio de Implementación para: Técnicas y Arquitecturas de Deep Learning\n",
    "\n",
    "- *Juan Carlos Varela Tellez      A01367002*\n",
    "- *Alan Eduardo Aquino Rosas      A01366912*\n",
    "- *Jorge Chávez Badillo           A01749448*\n",
    "- *Amy Murakami Tsutsumi          A01750185*\n",
    "- *Ariadna Jocelyn Guzmán Jiménez A01749373*\n",
    "\n",
    "## Arquitectura\n",
    "\n",
    "La red neuronal fue una RNN. Las redes neuronales recurrentes se utilizan mucho en el ámbito del lenguaje natural procesado debido a que, a comparación de inferencia numérica donde se busca que los datos sean independientes, el input de cualquier problema de lenguaje natural procesado son oraciones cuyas palabras dependen de la palabra anterior e incluso de la palabra siguiente. Es por esto que las RNN son muy utilizadas para este tipo de problemas.\n",
    "Asimismo, el modelo es un modelo sequence-to-sequence. En esencia, nuestra problemática es una de traducción, y este tipo de modelos seq-2-seq consiste en entrenar modelos que tomen un input de un dominio (lenguaje natural) a otro (dialecto SQL).\n",
    "Nuestro texto es insertado en un codificador bidireccional, pero a diferencia de BERT, este modelo cuenta con un decodificador, cuyo input es el estado final del codificador. Antes de entrar al decodificador, nuestro input pasa por una capa de atención. Después de pasar por esta capa de atención, se combina con las palabras incrustadas de SQL así como palabras incrustadas que el modelo puede ir aprendiendo. Esto es porque es posible que nuestro modelo encuentre palabras que puede que no estuvieran al momento de tokenizar nuestros datos. El decodificador al final nos da nuestro comando en SQL.\n",
    "\n"
   ],
   "metadata": {
    "collapsed": false,
    "pycharm": {
     "name": ""
    }
   }
  },
  {
   "cell_type": "markdown",
   "source": [
    "## Preprocesamiento y obtención de datos\n",
    "\n",
    "Antes de comenzar a hacer variaciones de variaciones, tenemos que tener acceso a nuestra base de datos de paráfrasis. La razón por la cual en esta implementación se intentó utilizar lenguaje natural en inglés es por la falta de datos en cualquier otro idioma. Base de datos sacada de [PPDB](http://paraphrase.org/#/) (version pequeña)."
   ],
   "metadata": {
    "collapsed": false,
    "pycharm": {
     "name": "#%% md\n"
    }
   }
  },
  {
   "cell_type": "code",
   "execution_count": 1,
   "outputs": [],
   "source": [
    "import ppdb\n",
    "\n",
    "path = 'C:/Users/jcvar/OneDrive/Escritorio/ppdb-2.0-s-all/ppdb-2.0-s-all.txt'\n",
    "\n",
    "my_dict = ppdb.load_ppdb(path)"
   ],
   "metadata": {
    "collapsed": false,
    "pycharm": {
     "name": "#%%\n"
    }
   }
  },
  {
   "cell_type": "code",
   "execution_count": 2,
   "outputs": [
    {
     "name": "stdout",
     "output_type": "stream",
     "text": [
      "{('a', 'tremendous', 'amount'), ('a', 'significant', 'amount'), ('a', 'substantial', 'amount'), ('an', 'enormous', 'amount')}\n",
      "('a', 'tremendous', 'amount')\n",
      "('a', 'significant', 'amount')\n",
      "('a', 'substantial', 'amount')\n",
      "('an', 'enormous', 'amount')\n",
      "<class 'set'>\n",
      "<class 'ppdb.ppdb.TransformationDict'>\n"
     ]
    },
    {
     "data": {
      "text/plain": "{('a', 'significant', 'amount'),\n ('a', 'substantial', 'amount'),\n ('a', 'tremendous', 'amount'),\n ('an', 'enormous', 'amount')}"
     },
     "execution_count": 2,
     "metadata": {},
     "output_type": "execute_result"
    }
   ],
   "source": [
    "for x in my_dict[('huge', 'amounts')]:\n",
    "    if type(x) is set:\n",
    "        print(x)\n",
    "        for y in x:\n",
    "            print(y)\n",
    "    print(str(type(x)))\n",
    "my_dict[['huge', 'amounts']][0]"
   ],
   "metadata": {
    "collapsed": false,
    "pycharm": {
     "name": "#%%\n"
    }
   }
  },
  {
   "cell_type": "markdown",
   "source": [
    "Como funciona esta base de datos es que distintas palabras, frases e incluso oraciones completas, si al momento de pasar por un traductor, terminan diciendo lo mismo, se les considera un parafraseo. Es por eso que en este ejemplo podemos ver que la frase **'huge amounts'** es lo mismo que **'a tremendous amount'** o **'a significant amount'**."
   ],
   "metadata": {
    "collapsed": false,
    "pycharm": {
     "name": "#%% md\n"
    }
   }
  },
  {
   "cell_type": "markdown",
   "source": [
    "Lo siguiente es el aumento de datos utilizando esta base de datos. Lo que hace esta función es reemplazar el numero de palabras que deseas (ngrams). Si deseas un ngram=1, la funcion reemplazará cada palabra individualmente por los 2 sinónimos que nuestra base de datos de paráfrasis considere. En caso de un ngram=2, tomará pares de palabras y reemplazará esta pequeña sub-oración con lo que la base de datos considere los 2 mejores parafraseos. Asimismo, los comandos SQL ligados con cada oración estarán ligados también con las oraciones generadas.\n",
    "Al final hay una función que repite la función anterior con un ngram de 2, 3 y 4.\n",
    "Por último, un pqueño ejemplo de como funciona esta función de aumento de datos."
   ],
   "metadata": {
    "collapsed": false,
    "pycharm": {
     "name": "#%% md\n"
    }
   }
  },
  {
   "cell_type": "code",
   "execution_count": 2,
   "outputs": [
    {
     "name": "stdout",
     "output_type": "stream",
     "text": [
      "[('show me the population with difficulty paying attention or learning simple things, group by population with difficulty paying attention or learning simple things in descending order', 'select DISC12 from discapacidad group by DISC12 desc'), ('is demonstrated by the population with difficulty paying attention or learning simple things, group by population with difficulty paying attention or learning simple things in descending order', 'select DISC12 from discapacidad group by DISC12 desc'), ('be demonstrated by the population with difficulty paying attention or learning simple things, group by population with difficulty paying attention or learning simple things in descending order', 'select DISC12 from discapacidad group by DISC12 desc'), ('show me specific populations with difficulty paying attention or learning simple things, group by population with difficulty paying attention or learning simple things in descending order', 'select DISC12 from discapacidad group by DISC12 desc'), ('show me entire populations with difficulty paying attention or learning simple things, group by population with difficulty paying attention or learning simple things in descending order', 'select DISC12 from discapacidad group by DISC12 desc'), ('show me the population groups in difficulty paying attention or learning simple things, group by population with difficulty paying attention or learning simple things in descending order', 'select DISC12 from discapacidad group by DISC12 desc'), ('show me the population with difficulty given attention or learning simple things, group by population with difficulty paying attention or learning simple things in descending order', 'select DISC12 from discapacidad group by DISC12 desc'), ('show me the population with difficulty attaches great importance or learning simple things, group by population with difficulty paying attention or learning simple things in descending order', 'select DISC12 from discapacidad group by DISC12 desc'), ('show me the population with difficulty paying attention or learning simple things, group by population groups in difficulty paying attention or learning simple things in descending order', 'select DISC12 from discapacidad group by DISC12 desc'), ('show me the population with difficulty paying attention or learning simple things, group by population with difficulty given attention or learning simple things in descending order', 'select DISC12 from discapacidad group by DISC12 desc'), ('show me the population with difficulty paying attention or learning simple things, group by population with difficulty attaches great importance or learning simple things in descending order', 'select DISC12 from discapacidad group by DISC12 desc')]\n"
     ]
    }
   ],
   "source": [
    "def ngram_paraphrasing(sentence, pairs, ngram, sql_comand,factor=2):\n",
    "    # Obtiene el largo de la oracion\n",
    "    results = []\n",
    "    length = len(sentence)\n",
    "    # Define cuando parar\n",
    "    for i in range(length - ngram):\n",
    "        subsentence = []\n",
    "        for j in range(ngram):\n",
    "            # Crea la sub-oracion\n",
    "            subsentence.append(sentence[i + j])\n",
    "        # Si no encuentra la sub-oracion generada en la base de datos\n",
    "        if not pairs[subsentence][0]:\n",
    "            continue\n",
    "        # Lo convierte a una lista para poder iterar sobre esta\n",
    "        paraphrase_list = list(pairs[subsentence][0])\n",
    "        # Cada parafraseo encontrado\n",
    "        for paraphrasing in paraphrase_list[0:factor]:\n",
    "            # Se reemplaza las palabras\n",
    "            new_words = sentence[0:i] + list(paraphrasing) + sentence[i + ngram:]\n",
    "            first_pair = ' '.join(new_words)\n",
    "            results.append((first_pair, sql_comand))\n",
    "    return results\n",
    "\n",
    "def sentence_augmentation_paraphrasing(sentence, sql_comand):\n",
    "    sentences = [(sentence, sql_comand)]\n",
    "    words = sentence.split()\n",
    "    sentences += ngram_paraphrasing(words, my_dict, 2, sql_comand)\n",
    "    sentences += ngram_paraphrasing(words, my_dict, 3, sql_comand)\n",
    "    sentences += ngram_paraphrasing(words, my_dict, 4, sql_comand)\n",
    "\n",
    "    return sentences\n",
    "\n",
    "my_sentence = 'show me the population with difficulty paying attention or learning simple things, group by population with difficulty paying attention or learning simple things in descending order'\n",
    "\n",
    "my_sql_comand = 'select DISC12 from discapacidad group by DISC12 desc'\n",
    "\n",
    "print(sentence_augmentation_paraphrasing(my_sentence, my_sql_comand))"
   ],
   "metadata": {
    "collapsed": false,
    "pycharm": {
     "name": "#%%\n"
    }
   }
  },
  {
   "cell_type": "markdown",
   "source": [
    "Aunque hay algunas oraciones que tienen mala gramática, hay varias otras que tienen sentido y se pueden considerar como parafrases."
   ],
   "metadata": {
    "collapsed": false,
    "pycharm": {
     "name": "#%% md\n"
    }
   }
  },
  {
   "cell_type": "markdown",
   "source": [
    "### Creacion de variaciones\n",
    "\n",
    "Ahora viene lo interesante, la creación de nuestra propia base de datos para nuestro problema en específico. Debido a la naturaleza de generación de variaciones de variaciones de variaciones, este problema se puede volver muy complejo muy rápido. Es por esto que se creó una pequeña clase llamada **Table**. Esta clase nos va a ayudar a modularizar cosas como el nombre de cada tabla, nombre de sus respectivas columnas y como referirse a cada columna en lenguaje natural."
   ],
   "metadata": {
    "collapsed": false,
    "pycharm": {
     "name": "#%% md\n"
    }
   }
  },
  {
   "cell_type": "code",
   "execution_count": 3,
   "outputs": [],
   "source": [
    "class Table:\n",
    "    def __init__(self, name, columns):\n",
    "        self.name = name\n",
    "        self.columns = columns\n",
    "        self.natural_columns = ''\n",
    "\n",
    "    def set_natural_columns(self, natural_columns):\n",
    "        self.natural_columns = natural_columns"
   ],
   "metadata": {
    "collapsed": false,
    "pycharm": {
     "name": "#%%\n"
    }
   }
  },
  {
   "cell_type": "markdown",
   "source": [
    "Con ayuda de la libreria pandas, podremos obtener el nombre de las columnas y ponerlas de forma automática."
   ],
   "metadata": {
    "collapsed": false,
    "pycharm": {
     "name": "#%% md\n"
    }
   }
  },
  {
   "cell_type": "code",
   "execution_count": 4,
   "outputs": [],
   "source": [
    "import  pandas\n",
    "import os\n",
    "\n",
    "tables = []\n",
    "\n",
    "# Checa todas las tablas en la carpeta\n",
    "for filename in os.listdir('Data'):\n",
    "    # Obtiene la ubicación del archivo\n",
    "    path = os.path.join(os.getcwd(), 'Data', filename)\n",
    "    # Abre el archivo\n",
    "    with open(path) as f:\n",
    "        # Cuenta el numero de columnas para que se pueda saltar la primera columan\n",
    "        num_cols = len(f.readline().split(','))\n",
    "    # Obtiene los datus\n",
    "    df = pandas.read_csv(path, usecols=range(1, num_cols))\n",
    "    # Da nombre y lista de columnas\n",
    "    table = Table(filename[0:-4], list(df.columns))\n",
    "    tables.append(table)"
   ],
   "metadata": {
    "collapsed": false,
    "pycharm": {
     "name": "#%%\n"
    }
   }
  },
  {
   "cell_type": "markdown",
   "source": [
    "Para la obtención de como se llamarían las columnas en un lenguaje natural, este trabajo se tuvo que hacer manual"
   ],
   "metadata": {
    "collapsed": false,
    "pycharm": {
     "name": "#%% md\n"
    }
   }
  },
  {
   "cell_type": "code",
   "execution_count": 5,
   "outputs": [],
   "source": [
    "natural_cols_dis = ['state',\n",
    "                    'handicapped population',\n",
    "                    'femenine handicapped population',\n",
    "                    'masculine handicapped population',\n",
    "                    'handicapped population aged between 0 and 14',\n",
    "                    'handicapped population aged between 15 and 59',\n",
    "                    'handicapped population aged 60 and over',\n",
    "                    'population with difficulty walking or moving',\n",
    "                    'population with difficulty seeing even with glasses',\n",
    "                    'population with difficulty speaking, communicating or conversing',\n",
    "                    'population with hearing difficulty',\n",
    "                    'population with difficulty getting dressed, bathing or eating',\n",
    "                    'population with difficulty paying attention or learning simple things',\n",
    "                    'population with mental difficulties',\n",
    "                    'handicapped population entitled to health services']\n",
    "\n",
    "natural_cols_econ = ['state',\n",
    "                     'economically active population',\n",
    "                     'femenine economically active population',\n",
    "                     'masculine economically active population',\n",
    "                     'non-economically active population',\n",
    "                     'femenine non-economically active population',\n",
    "                     'masculine non-economically active population',\n",
    "                     'non-economically active population aged 12 and over that is dedicated to studying',\n",
    "                     'non-economically active population aged 12 and over that is dedicated to household chores',\n",
    "                     'non-economically active population aged 12 and over with mental or physical limitations that prevents them from working',\n",
    "                     'non-economically active population with other reasons that prevents them from working']\n",
    "\n",
    "natural_cols_educ = ['state',\n",
    "                     'population aged between 3 and 5 that attends school',\n",
    "                     'population aged between 3 and 5 that does not attend school',\n",
    "                     'population aged between 6 and 11 that attends school',\n",
    "                     'population aged between 6 and 11 that does not attend school',\n",
    "                     'population aged between 12 and 14 that attends school',\n",
    "                     'population aged between 12 and 14 that does not attend school',\n",
    "                     'population aged between 8 and 14 that knows how to read and write',\n",
    "                     'population aged between 8 and 14 that does not know how to read and write',\n",
    "                     'population aged 15 and over that knows how to read and write',\n",
    "                     'population aged 15 and over that does not know how to read and write',\n",
    "                     'population aged 15 and over without schooling']\n",
    "\n",
    "natural_cols_fecu = ['state',\n",
    "                     'average number of children born alive',\n",
    "                     'average number of children born alive from women aged between 15 and 49',\n",
    "                     'percentage of women aged between 15 and 19 with at least 1 child born alive']\n",
    "\n",
    "natural_cols_habl = ['state',\n",
    "                     'population aged between 5 and 130 that speaks an indigenous language',\n",
    "                     'population aged over 5 that speaks an indigenous language and does not speak spanish',\n",
    "                     'population aged over 5 that speaks an indigenous language and spanish',\n",
    "                     'population in indigenous households']\n",
    "\n",
    "natural_cols_migr = ['state',\n",
    "                     'population born in the state',\n",
    "                     'femenine population born in the state',\n",
    "                     'masculine population born in the state',\n",
    "                     'population born in another state',\n",
    "                     'masculine population born in another state',\n",
    "                     'femenine population born in another state',\n",
    "                     'population born in another country']\n",
    "\n",
    "natural_cols_mort = ['state',\n",
    "                     'percentage of stillborn children from women aged 12 and over']\n",
    "\n",
    "natural_cols_pobl = ['state',\n",
    "                     'total population',\n",
    "                     'total femenine population',\n",
    "                     'total masculine population',\n",
    "                     'population aged between 0 and 2',\n",
    "                     'population aged between 3 and 5',\n",
    "                     'population aged between 6 and 11',\n",
    "                     'population aged between 12 and 14',\n",
    "                     'population aged between 15 and 29',\n",
    "                     'population aged between 30 and 49',\n",
    "                     'population aged between 50 and 59',\n",
    "                     'population aged between 60 and 64',\n",
    "                     'population aged 65 and over']\n",
    "\n",
    "natural_cols_reli = ['state',\n",
    "                     'population with catholic religion',\n",
    "                     'population with protestant, evangelic or biblical religion',\n",
    "                     'population with other religion',\n",
    "                     'population with no religion']\n",
    "\n",
    "natural_cols_salu = ['state',\n",
    "                     'population entitle to health services',\n",
    "                     'population not entitled to health services',\n",
    "                     'population entitled to IMSS health services',\n",
    "                     'population entitled to ISSSTE or state-owned ISSSTE health services',\n",
    "                     'population entitled to popular insurance or new generation medical insurance',\n",
    "                     'population entitled to Pemex, Sedena or Semar health services']\n",
    "\n",
    "natural_cols_situ = ['state',\n",
    "                     'single population aged 12 and over',\n",
    "                     'married or joined population aged 12 and over',\n",
    "                     'formerly married or joinned population aged 12 and over',\n",
    "                     'married or joined population aged between 15 and 24']\n",
    "\n",
    "tables[0].set_natural_columns(natural_cols_dis)\n",
    "tables[1].set_natural_columns(natural_cols_econ)\n",
    "tables[2].set_natural_columns(natural_cols_educ)\n",
    "tables[3].set_natural_columns(natural_cols_fecu)\n",
    "tables[4].set_natural_columns(natural_cols_habl)\n",
    "tables[5].set_natural_columns(natural_cols_migr)\n",
    "tables[6].set_natural_columns(natural_cols_mort)\n",
    "tables[7].set_natural_columns(natural_cols_pobl)\n",
    "tables[8].set_natural_columns(natural_cols_reli)\n",
    "tables[9].set_natural_columns(natural_cols_salu)\n",
    "tables[10].set_natural_columns(natural_cols_situ)"
   ],
   "metadata": {
    "collapsed": false,
    "pycharm": {
     "name": "#%%\n"
    }
   }
  },
  {
   "cell_type": "markdown",
   "source": [
    "Las variaciones de lenguaje natural y comandos SQL, y sus repectivas variaciones tambien se tuvieron que hacer de forma manual. Se tuvo mucho cuidado al momento de escribirlas ya que es necesario que el índice de las órdenes en lenguaje natural coincidan con su respectivo comando de SQL."
   ],
   "metadata": {
    "collapsed": false,
    "pycharm": {
     "name": "#%% md\n"
    }
   }
  },
  {
   "cell_type": "code",
   "execution_count": 6,
   "outputs": [],
   "source": [
    "# show me the [col_name] which values are [condition], group by [comp_col] in [order] order\n",
    "# Conditions: less than, more than, equal to\n",
    "\n",
    "variations = ['show me the [col_name]',\n",
    "              'show me the [col_name], group by [comp_col]',\n",
    "              'show me the [col_name], group by [comp_col] in [order] order',\n",
    "              'show me the [col_name] where [condition]',\n",
    "              'show me the [col_name] where [condition] group by [comp_col]',\n",
    "              'show me the [col_name] where [condition] group by [comp_col] in [order] order',\n",
    "              'show me the [col_name] where [condition] in [order] order',\n",
    "              'show me the [col_name] in [order] order']\n",
    "\n",
    "conditions = ['[col_name] is less than [cond_1]',\n",
    "              '[col_name] is more than [cond_1]',\n",
    "              '[col_name] is equal to [cond_1]']\n",
    "\n",
    "order = ['ascending',\n",
    "         'descending']\n",
    "\n",
    "variations_sql = ['select [col_name_sql] from [table]',\n",
    "                  'select [col_name_sql] from [table] group by [comp_col_sql]',\n",
    "                  'select [col_name_sql] from [table] group by [comp_col_sql] [order_sql]',\n",
    "                  'select [col_name_sql] from [table] where [condition_sql]',\n",
    "                  'select [col_name_sql] from [table] where [condition_sql] group by [comp_col_sql]',\n",
    "                  'select [col_name_sql] from [table] where [condition_sql] group by [comp_col_sql] [order_sql]',\n",
    "                  'select [col_name_sql] from [table] where [condition_sql] [order_sql]',\n",
    "                  'select [col_name_sql] from [table] [order_sql]']\n",
    "\n",
    "conditions_sql = ['[col_name_sql] < [cond_1]',\n",
    "                  '[col_name_sql] > [cond_1]',\n",
    "                  '[col_name_sql] = [cond_1]']\n",
    "\n",
    "order_sql = ['asc',\n",
    "             'desc']"
   ],
   "metadata": {
    "collapsed": false,
    "pycharm": {
     "name": "#%%\n"
    }
   }
  },
  {
   "cell_type": "markdown",
   "source": [
    "Estas son funciones que, de forma iterativa, generan las variaciones de las oraciones. Se modularizaron y la generación de las oraciones y sus respectivos comandos SQL se hara paso por paso."
   ],
   "metadata": {
    "collapsed": false,
    "pycharm": {
     "name": "#%% md\n"
    }
   }
  },
  {
   "cell_type": "code",
   "execution_count": 7,
   "outputs": [],
   "source": [
    "# Obtiene variaciones con columnas de las tablas y sus respectivas variaciones SQL\n",
    "def get_col_names(table:Table, variation:str, variation_sql:str):\n",
    "    pairs = []\n",
    "    for i in range(len(table.columns)):\n",
    "        pair = (variation.replace('[col_name]', table.natural_columns[i]), variation_sql.replace('[col_name_sql]', table.columns[i]).replace('[table]', table.name), table.name)\n",
    "        pairs.append(pair)\n",
    "    return pairs\n",
    "\n",
    "# Genera variaciones de condicinales\n",
    "def replace_condition(pairs:list, conditions:list, conditions_sql:list):\n",
    "    all_pairs = []\n",
    "    for pair in pairs:\n",
    "        if not '[condition]' in pair[0]:\n",
    "            all_pairs.append(pair)\n",
    "            continue\n",
    "        for condition, condition_sql in zip(conditions, conditions_sql):\n",
    "            new_pair = (pair[0].replace('[condition]', condition), pair[1].replace('[condition_sql]', condition_sql), pair[2])\n",
    "            all_pairs.append(new_pair)\n",
    "    return all_pairs\n",
    "\n",
    "# Genera variaciones de orden ascendente o descendente\n",
    "def replace_order(pairs:list, order:list, order_sql:list):\n",
    "    all_pairs = []\n",
    "    for pair in pairs:\n",
    "        if not '[order]' in pair[0]:\n",
    "            all_pairs.append(pair)\n",
    "            continue\n",
    "        for curr_order, curr_order_sql in zip(order, order_sql):\n",
    "            new_pair = (pair[0].replace('[order]', curr_order), pair[1].replace('[order_sql]', curr_order_sql), pair[2])\n",
    "            all_pairs.append(new_pair)\n",
    "    return all_pairs\n",
    "\n",
    "# Remplaza con las columnas complementarias de cada tabla correspondiente\n",
    "def replace_comp_col(pairs:list, tables:list):\n",
    "    all_pairs = []\n",
    "    for pair in pairs:\n",
    "        if not '[comp_col]' in pair[0]:\n",
    "            all_pairs.append(pair)\n",
    "            continue\n",
    "        curr_table = pair[2]\n",
    "        match curr_table:\n",
    "            case 'discapacidad':\n",
    "                for i in range(len(tables[0].columns)):\n",
    "                    new_pair = (pair[0].replace('[comp_col]', tables[0].natural_columns[i]), pair[1].replace('[comp_col_sql]', tables[0].columns[i]), pair[2])\n",
    "                    all_pairs.append(new_pair)\n",
    "            case 'economia':\n",
    "                for i in range(len(tables[1].columns)):\n",
    "                    new_pair = (pair[0].replace('[comp_col]', tables[1].natural_columns[i]), pair[1].replace('[comp_col_sql]', tables[1].columns[i]), pair[2])\n",
    "                    all_pairs.append(new_pair)\n",
    "            case 'educacion':\n",
    "                for i in range(len(tables[2].columns)):\n",
    "                    new_pair = (pair[0].replace('[comp_col]', tables[2].natural_columns[i]), pair[1].replace('[comp_col_sql]', tables[2].columns[i]), pair[2])\n",
    "                    all_pairs.append(new_pair)\n",
    "            case 'fecundidad':\n",
    "                for i in range(len(tables[3].columns)):\n",
    "                    new_pair = (pair[0].replace('[comp_col]', tables[3].natural_columns[i]), pair[1].replace('[comp_col_sql]', tables[3].columns[i]), pair[2])\n",
    "                    all_pairs.append(new_pair)\n",
    "            case 'hablantes':\n",
    "                for i in range(len(tables[4].columns)):\n",
    "                    new_pair = (pair[0].replace('[comp_col]', tables[4].natural_columns[i]), pair[1].replace('[comp_col_sql]', tables[4].columns[i]), pair[2])\n",
    "                    all_pairs.append(new_pair)\n",
    "            case 'migracion':\n",
    "                for i in range(len(tables[5].columns)):\n",
    "                    new_pair = (pair[0].replace('[comp_col]', tables[5].natural_columns[i]), pair[1].replace('[comp_col_sql]', tables[5].columns[i]), pair[2])\n",
    "                    all_pairs.append(new_pair)\n",
    "            case 'mortalidad':\n",
    "                for i in range(len(tables[6].columns)):\n",
    "                    new_pair = (pair[0].replace('[comp_col]', tables[6].natural_columns[i]), pair[1].replace('[comp_col_sql]', tables[6].columns[i]), pair[2])\n",
    "                    all_pairs.append(new_pair)\n",
    "            case 'poblacion':\n",
    "                for i in range(len(tables[7].columns)):\n",
    "                    new_pair = (pair[0].replace('[comp_col]', tables[7].natural_columns[i]), pair[1].replace('[comp_col_sql]', tables[7].columns[i]), pair[2])\n",
    "                    all_pairs.append(new_pair)\n",
    "            case 'religion':\n",
    "                for i in range(len(tables[8].columns)):\n",
    "                    new_pair = (pair[0].replace('[comp_col]', tables[8].natural_columns[i]), pair[1].replace('[comp_col_sql]', tables[8].columns[i]), pair[2])\n",
    "                    all_pairs.append(new_pair)\n",
    "            case 'salud':\n",
    "                for i in range(len(tables[9].columns)):\n",
    "                    new_pair = (pair[0].replace('[comp_col]', tables[9].natural_columns[i]), pair[1].replace('[comp_col_sql]', tables[9].columns[i]), pair[2])\n",
    "                    all_pairs.append(new_pair)\n",
    "            case 'situacion_conyugal':\n",
    "                for i in range(len(tables[10].columns)):\n",
    "                    new_pair = (pair[0].replace('[comp_col]', tables[10].natural_columns[i]), pair[1].replace('[comp_col_sql]', tables[10].columns[i]), pair[2])\n",
    "                    all_pairs.append(new_pair)\n",
    "    return all_pairs\n",
    "\n",
    "# Remplaza con las columnas de cada tabla correspondiente\n",
    "def replace_col_name(pairs:list, tables:list):\n",
    "    all_pairs = []\n",
    "    for pair in pairs:\n",
    "        if not '[col_name]' in pair[0]:\n",
    "            all_pairs.append(pair)\n",
    "            continue\n",
    "        curr_table = pair[2]\n",
    "        match curr_table:\n",
    "            case 'discapacidad':\n",
    "                for i in range(len(tables[0].columns)):\n",
    "                    new_pair = (pair[0].replace('[col_name]', tables[0].natural_columns[i]), pair[1].replace('[col_name_sql]', tables[0].columns[i]), pair[2])\n",
    "                    all_pairs.append(new_pair)\n",
    "            case 'economia':\n",
    "                for i in range(len(tables[1].columns)):\n",
    "                    new_pair = (pair[0].replace('[col_name]', tables[1].natural_columns[i]), pair[1].replace('[col_name_sql]', tables[1].columns[i]), pair[2])\n",
    "                    all_pairs.append(new_pair)\n",
    "            case 'educacion':\n",
    "                for i in range(len(tables[2].columns)):\n",
    "                    new_pair = (pair[0].replace('[col_name]', tables[2].natural_columns[i]), pair[1].replace('[col_name_sql]', tables[2].columns[i]), pair[2])\n",
    "                    all_pairs.append(new_pair)\n",
    "            case 'fecundidad':\n",
    "                for i in range(len(tables[3].columns)):\n",
    "                    new_pair = (pair[0].replace('[col_name]', tables[3].natural_columns[i]), pair[1].replace('[col_name_sql]', tables[3].columns[i]), pair[2])\n",
    "                    all_pairs.append(new_pair)\n",
    "            case 'hablantes':\n",
    "                for i in range(len(tables[4].columns)):\n",
    "                    new_pair = (pair[0].replace('[col_name]', tables[4].natural_columns[i]), pair[1].replace('[col_name_sql]', tables[4].columns[i]), pair[2])\n",
    "                    all_pairs.append(new_pair)\n",
    "            case 'migracion':\n",
    "                for i in range(len(tables[5].columns)):\n",
    "                    new_pair = (pair[0].replace('[col_name]', tables[5].natural_columns[i]), pair[1].replace('[col_name_sql]', tables[5].columns[i]), pair[2])\n",
    "                    all_pairs.append(new_pair)\n",
    "            case 'mortalidad':\n",
    "                for i in range(len(tables[6].columns)):\n",
    "                    new_pair = (pair[0].replace('[col_name]', tables[6].natural_columns[i]), pair[1].replace('[col_name_sql]', tables[6].columns[i]), pair[2])\n",
    "                    all_pairs.append(new_pair)\n",
    "            case 'poblacion':\n",
    "                for i in range(len(tables[7].columns)):\n",
    "                    new_pair = (pair[0].replace('[col_name]', tables[7].natural_columns[i]), pair[1].replace('[col_name_sql]', tables[7].columns[i]), pair[2])\n",
    "                    all_pairs.append(new_pair)\n",
    "            case 'religion':\n",
    "                for i in range(len(tables[8].columns)):\n",
    "                    new_pair = (pair[0].replace('[col_name]', tables[8].natural_columns[i]), pair[1].replace('[col_name_sql]', tables[8].columns[i]), pair[2])\n",
    "                    all_pairs.append(new_pair)\n",
    "            case 'salud':\n",
    "                for i in range(len(tables[9].columns)):\n",
    "                    new_pair = (pair[0].replace('[col_name]', tables[9].natural_columns[i]), pair[1].replace('[col_name_sql]', tables[9].columns[i]), pair[2])\n",
    "                    all_pairs.append(new_pair)\n",
    "            case 'situacion_conyugal':\n",
    "                for i in range(len(tables[10].columns)):\n",
    "                    new_pair = (pair[0].replace('[col_name]', tables[10].natural_columns[i]), pair[1].replace('[col_name_sql]', tables[10].columns[i]), pair[2])\n",
    "                    all_pairs.append(new_pair)\n",
    "    return all_pairs\n",
    "\n",
    "# Utiliza la función anterior con la base de datos de parafraseo para aumentar los datos\n",
    "def augment_pairs(pairs:list):\n",
    "    all_pairs = []\n",
    "    for pair in pairs:\n",
    "        new_pairs = sentence_augmentation_paraphrasing(pair[0], pair[1])\n",
    "        all_pairs += new_pairs\n",
    "    return all_pairs"
   ],
   "metadata": {
    "collapsed": false,
    "pycharm": {
     "name": "#%%\n"
    }
   }
  },
  {
   "cell_type": "markdown",
   "source": [
    "Con todo en su respectivo lugar, queda generar y guardar en un archivo nuestra base de datos"
   ],
   "metadata": {
    "collapsed": false,
    "pycharm": {
     "name": "#%% md\n"
    }
   }
  },
  {
   "cell_type": "code",
   "execution_count": 8,
   "outputs": [],
   "source": [
    "all_pairs = []\n",
    "for table in tables:\n",
    "    for i in range(len(variations)):\n",
    "        pairs = get_col_names(table, variations[i], variations_sql[i])\n",
    "        all_pairs += pairs\n",
    "\n",
    "all_pairs = replace_condition(all_pairs, conditions, conditions_sql)\n",
    "all_pairs = replace_order(all_pairs, order, order_sql)\n",
    "all_pairs = replace_comp_col(all_pairs, tables)\n",
    "all_pairs = replace_col_name(all_pairs, tables)\n",
    "all_pairs = augment_pairs(all_pairs)\n",
    "\n",
    "with open('variations.txt', 'w') as f:\n",
    "    for pairs in all_pairs:\n",
    "        f.write(pairs[0] + '\\t' + pairs[1] + '\\n')"
   ],
   "metadata": {
    "collapsed": false,
    "pycharm": {
     "name": "#%%\n"
    }
   }
  },
  {
   "cell_type": "markdown",
   "source": [
    "## Implementación del modelo\n",
    "\n",
    "Con la generación de la base de datos completada, es hora de implementar el modelo. Este modelo fue basado en el modelo presentado por Eileen Pangu en [Towards Data Science](https://towardsdatascience.com/end-to-end-attention-based-machine-translation-model-with-minimum-tensorflow-code-ae2f08cc8218) y fue modificado para poder resokver nuestra problemática.\n",
    "Se empieza por separar el dataset en un dataset de lenguaje natural y uno de comandos SQL."
   ],
   "metadata": {
    "collapsed": false,
    "pycharm": {
     "name": "#%% md\n"
    }
   }
  },
  {
   "cell_type": "code",
   "execution_count": 1,
   "outputs": [],
   "source": [
    "import tensorflow as tf\n",
    "\n",
    "def split(text):\n",
    "    parts = tf.strings.split(text, sep='\\t')\n",
    "    return parts[0], parts[1]\n",
    "\n",
    "full_dataset = tf.data.TextLineDataset(['variations.txt']).map(split)\n",
    "nat_dataset = full_dataset.map(lambda nat, sql: nat)\n",
    "sql_dataset = full_dataset.map(lambda nat, sql: sql)"
   ],
   "metadata": {
    "collapsed": false,
    "pycharm": {
     "name": "#%%\n"
    }
   }
  },
  {
   "cell_type": "markdown",
   "source": [
    "Después de eso, estandarizamos nuestros datasets para después pasarlos por una capa de Vectorizado de Texto. Y después se adapta esta capa. Al final podemos ver nuestro vocabulario que obtuvimos después de este proceso."
   ],
   "metadata": {
    "collapsed": false,
    "pycharm": {
     "name": "#%% md\n"
    }
   }
  },
  {
   "cell_type": "code",
   "execution_count": 2,
   "outputs": [
    {
     "name": "stdout",
     "output_type": "stream",
     "text": [
      "['', '[UNK]', 'population', 'and', 'aged', 'by', 'is', 'between', 'the', '[START]', '[END]', 'cond', 'where', 'that', 'group', 'to', 'show', 'me', 'in', 'order', 'than', 'over', 'with', 'not', 'active', 'school', 'does', 'descending', 'ascending', 'handicapped', 'write', 'read', 'how', 'or', 'more', 'noneconomically', 'difficulty', 'state', 'less', ',', 'equal', 'attend', 'attends', 'masculine', 'femenine', 'know', 'knows', 'entitled', 'health', 'services', 'total', 'of', 'born', 'working', 'economically', 'demonstrated', 'from', 'mental', 'general', 'dedicated', 'them', 'prevents', 'be', 'without', 'schooling', 'populations', 'years', 'are', 'attention', 'chores', 'things', 'simple', 'learning', 'other', 'studying', 'household', 'equivalent', 'hearing', 'another', 'difficulties', 'walking', 'moving', 'speaking', 'seeing', 'paying', 'glasses', 'getting', 'even', 'eating', 'dressed', 'conversing', 'communicating', 'bathing', 'was', 'reasons', 'physical', 'limitations', 'indigenous', 'tantamount', 'greater', 'age', 'speaks', 'language', 'insurance', 'an', 'specific', 'entire', 'groups', 'least', 'at', 'religion', 'however', 'given', 'alive', 'spanish', 'women', 'a', 'stateowned', 'emex', 'emar', 'edena', 'five', 'would', 'valued', 'rather', 'much', 'lower', 'lot', 'higher', 'married', 'entitle', 'popular', 'new', 'medical', 'generation', 'children', 'country', 'number', 'average', 'known', 'systems', 'been', 'should', 'devoted', 'joined', 'speak', 'service', 'writing', 'who', 'college', 'replaced', 'follows', 'following', 'as', 'amended', 'able', 'households', 'percentage', 'well', 'hell', 'child', 'reading', 'living', 'prevented', 'receive', 'legally', 'three', 'involved', 'lives', 'healthcare', 'care', 'protestant', 'no', 'evangelic', 'catholic', 'biblical', 'zero', 'it', 'schools', 'actively', 'single', 'joinned', 'formerly', 'lrb', 'two', 'older', 'works', 'have', 'has', 'familiar', 'better', 'countries', 'why', 'this', 'themselves', 'submitted', 'shall', 'prevent', 'pay', 'commit', 'its', 'importance', 'great', 'attaches', 'difficult', 'education', 'primary', 'full', 'amounts', 'rrb', 'sectors', 'industries', 'fourteen', 'm', 'they', 'reason', 'very', 'forward', 'stillborn', 'peoples', 'nations', 'inuit', 'first', 'freedom', 'circumstances', 'used', 'government', 'those', 'different', 'local', 'above', 'operate', 'field', 'experienced', 'proportion', 'were', 'people', 'large', 'high', 'per', 'both', 'within', 's', 'points', 'cent', 'such', 'religious', 'now', 'beliefs', 'one', 'female', 'atleast', 'still', 'twentyfour', 'proportions', 'percentages', 'females', 'languages', 'under', 'ages']\n"
     ]
    }
   ],
   "source": [
    "def standardize(text):\n",
    "    # Keep space, a to z, and select punctuation.\n",
    "    text = tf.strings.regex_replace(text, '[^ a-z.?!,¿]', '')\n",
    "    # Add spaces around punctuation.\n",
    "    text = tf.strings.regex_replace(text, '[.?!,¿]', r' \\0 ')\n",
    "    # Strip whitespace.\n",
    "    text = tf.strings.strip(text)\n",
    "\n",
    "    text = tf.strings.join(['[START]', text, '[END]'], separator=' ')\n",
    "    return text\n",
    "\n",
    "nat_text_processor = tf.keras.layers.TextVectorization(standardize=standardize, max_tokens=5000)\n",
    "sql_text_processor = tf.keras.layers.TextVectorization(standardize=standardize, max_tokens=5000)\n",
    "\n",
    "nat_text_processor.adapt(nat_dataset.batch(128))\n",
    "sql_text_processor.adapt(sql_dataset.batch(128))\n",
    "\n",
    "print(nat_text_processor.get_vocabulary())"
   ],
   "metadata": {
    "collapsed": false,
    "pycharm": {
     "name": "#%%\n"
    }
   }
  },
  {
   "cell_type": "markdown",
   "source": [
    "Ya que puede que nuestro usuario escriba los comandos de forma diferente, ponemos una capa de incrustación de palabras cuyos pesos estaran congelados. Esto nos va a ayudar a evitar que nuestro modelo se encuentre con palabras que no haya tokenizado o que no se encuentre en el dataset."
   ],
   "metadata": {
    "collapsed": false,
    "pycharm": {
     "name": "#%% md\n"
    }
   }
  },
  {
   "cell_type": "code",
   "execution_count": 9,
   "outputs": [],
   "source": [
    "import numpy as np\n",
    "import pandas as pd\n",
    "\n",
    "embeddings_index = {}\n",
    "with open('glove.6B/glove.6B.100d.txt', encoding='utf-8') as f:\n",
    "    for line in f:\n",
    "        word, coefs = line.split(maxsplit=1)\n",
    "        coefs = np.fromstring(coefs, \"f\", sep=\" \")\n",
    "        embeddings_index[word] = coefs\n",
    "\n",
    "fixed_embedding_matrix = np.zeros((len(nat_text_processor.get_vocabulary()), 100))\n",
    "for i, word in enumerate(nat_text_processor.get_vocabulary()):\n",
    "    embedding_vector = embeddings_index.get(word)\n",
    "    if embedding_vector is not None:\n",
    "        # Words not found in embedding index will be all-zeros.\n",
    "        fixed_embedding_matrix[i] = embedding_vector\n",
    "\n",
    "fixed_embedding = tf.keras.layers.Embedding(\n",
    "    len(nat_text_processor.get_vocabulary()),\n",
    "    100,\n",
    "    embeddings_initializer=tf.keras.initializers.Constant(fixed_embedding_matrix),\n",
    "    trainable=False,\n",
    "    mask_zero=True)"
   ],
   "metadata": {
    "collapsed": false,
    "pycharm": {
     "name": "#%%\n"
    }
   }
  },
  {
   "cell_type": "markdown",
   "source": [
    "Después queda crear el modelo. Al momento de crearse, el modelo obtiene el procesador de texto natural, el procesador de comandos sql y la capa de incrustación de palabras congelada.\n",
    "Al momento de que el modelo se manda a llamar (principalmente en entrenamiento), este obtendra los tokens del input, los pasara por el codificador y de ahí obtendrá los estados. Después de esto, se obtendrán los tokens del comando SQL proporcionado. Pasara por la capa atención para despues pasar por el decodificador."
   ],
   "metadata": {
    "collapsed": false,
    "pycharm": {
     "name": "#%% md\n"
    }
   }
  },
  {
   "cell_type": "code",
   "execution_count": 8,
   "outputs": [],
   "source": [
    "class Nl2SqlTranslator(tf.keras.Model):\n",
    "    def __init__(self, nl_text_processor, sql_text_processor, fixed_embedding, unit=128):\n",
    "        super().__init__()\n",
    "        # Natural language\n",
    "        self.nl_text_processor = nl_text_processor\n",
    "        self.nl_voba_size = len(nl_text_processor.get_vocabulary())\n",
    "        self.nl_embedding = tf.keras.layers.Embedding(\n",
    "            self.nl_voba_size,\n",
    "            output_dim=unit,\n",
    "            mask_zero=True)\n",
    "        self.fixed_embedding = fixed_embedding\n",
    "        self.nl_rnn = tf.keras.layers.Bidirectional(layer=tf.keras.layers.LSTM(int(unit/2), return_sequences=True, return_state=True))\n",
    "        # Attention\n",
    "        self.attention = tf.keras.layers.Attention()\n",
    "        # SQL\n",
    "        self.sql_text_processor = sql_text_processor\n",
    "        self.sql_voba_size = len(sql_text_processor.get_vocabulary())\n",
    "        self.sql_embedding = tf.keras.layers.Embedding(\n",
    "            self.sql_voba_size,\n",
    "            output_dim=unit,\n",
    "            mask_zero=True)\n",
    "        self.sql_rnn = tf.keras.layers.LSTM(unit, return_sequences=True, return_state=True)\n",
    "        # Output\n",
    "        self.out = tf.keras.layers.Dense(self.sql_voba_size)\n",
    "\n",
    "    def call(self, nl_text, sql_text, training=True):\n",
    "        nl_tokens = self.nl_text_processor(nl_text)\n",
    "        nl_vectors = self.nl_embedding(nl_tokens, training=training)\n",
    "        nl_fixed_vectors = self.fixed_embedding(nl_tokens)\n",
    "        # nl_combined_vectors = tf.concat([nl_vectors, nl_fixed_vectors], -1)\n",
    "        nl_rnn_out, fhstate, fcstate, bhstate, bcstate = self.nl_rnn(nl_vectors, training=training)\n",
    "        nl_hstate = tf.concat([fhstate, bhstate], -1)\n",
    "        nl_cstate = tf.concat([fcstate, bcstate], -1)\n",
    "\n",
    "        sql_tokens = self.sql_text_processor(sql_text)\n",
    "        expected = sql_tokens[:,1:]\n",
    "\n",
    "        teacher_forcing = sql_tokens[:,:-1]\n",
    "        sql_vectors = self.sql_embedding(teacher_forcing, training=training)\n",
    "        sql_in = self.attention(inputs=[sql_vectors,nl_rnn_out], mask=[sql_vectors._keras_mask, nl_rnn_out._keras_mask], training=training)\n",
    "\n",
    "        trans_vectors, _, _ = self.sql_rnn(sql_in, initial_state=[nl_hstate, nl_cstate], training=training)\n",
    "        out = self.out(trans_vectors, training=training)\n",
    "        return out, expected, out._keras_mask"
   ],
   "metadata": {
    "collapsed": false,
    "pycharm": {
     "name": "#%%\n"
    }
   }
  },
  {
   "cell_type": "markdown",
   "source": [
    "Ahora falta entrenarlo. Aquí es donde la implementación toma un giro no optimizado debido al uso de un ciclo **for** para iterar sobre todo nuestro dataset."
   ],
   "metadata": {
    "collapsed": false,
    "pycharm": {
     "name": "#%% md\n"
    }
   }
  },
  {
   "cell_type": "code",
   "execution_count": 21,
   "outputs": [],
   "source": [
    "import matplotlib.pyplot as plt\n",
    "import numpy as np\n",
    "import time\n",
    "\n",
    "\n",
    "def train(epochs, model, batch=64, shuffle=1000):\n",
    "    # Se define la funcion de perdida\n",
    "    loss_fcn = tf.keras.losses.SparseCategoricalCrossentropy(\n",
    "        from_logits=True,\n",
    "        reduction=tf.keras.losses.Reduction.NONE)\n",
    "    # Definicion de algoritmo de optimizacion\n",
    "    opt = tf.keras.optimizers.Adam()\n",
    "    losses = []\n",
    "    # Aleatoriedad en el dataset\n",
    "    ds = full_dataset.shuffle(shuffle).batch(batch).cache()\n",
    "    for epoch in range(epochs):\n",
    "        # Epoch e inicio de toma de tiempo\n",
    "        epoch_losses = []\n",
    "        start_time = time.time()\n",
    "        # Para cada fila en nuestro dataset\n",
    "        for eng_text, spa_text in ds:\n",
    "            # Guarda valores para calculo diferencial mas rapido\n",
    "            with tf.GradientTape() as tape:\n",
    "                logits, expected, mask = model(eng_text, spa_text)\n",
    "                # Termina el proceso de red neuronal y calcula la perdida\n",
    "                loss = loss_fcn(expected, logits)\n",
    "                loss = tf.ragged.boolean_mask(loss, mask)\n",
    "                loss = tf.reduce_sum(loss) * (1. / batch)\n",
    "                epoch_losses.append(loss.numpy())\n",
    "                # Saca gradientes\n",
    "                grads = tape.gradient(loss, model.trainable_weights)\n",
    "                opt.apply_gradients(zip(grads, model.trainable_weights))\n",
    "        # Obtiene perdida al final del epoch\n",
    "        losses.append(np.mean(epoch_losses))\n",
    "        print('Trained epoch: {}; loss: {}'.format(epoch, losses[epoch]))\n",
    "        print(f'Time elapsed in seconds: {time.time() - start_time}')\n",
    "    # Grafica de resultados\n",
    "    plt.plot(losses)\n",
    "    plt.xlabel('Epoch')\n",
    "    plt.ylabel('Losses')"
   ],
   "metadata": {
    "collapsed": false,
    "pycharm": {
     "name": "#%%\n"
    }
   }
  },
  {
   "cell_type": "markdown",
   "source": [
    "Ahora entrenaremos el modelo. Debido a la pobre implementación y gran cantidad de datos a utilizar, el entrenamiento solamente se hará con 5 epochs."
   ],
   "metadata": {
    "collapsed": false,
    "pycharm": {
     "name": "#%% md\n"
    }
   }
  },
  {
   "cell_type": "code",
   "execution_count": 22,
   "outputs": [
    {
     "name": "stdout",
     "output_type": "stream",
     "text": [
      "Trained epoch: 0; loss: 0.05051204189658165\n",
      "Time elapsed in seconds: 2356.7697534561157\n",
      "Trained epoch: 1; loss: 0.010642411187291145\n",
      "Time elapsed in seconds: 2313.3394722938538\n",
      "Trained epoch: 2; loss: 0.008154137060046196\n",
      "Time elapsed in seconds: 2306.1291120052338\n",
      "Trained epoch: 3; loss: 0.008491545915603638\n",
      "Time elapsed in seconds: 2331.616354703903\n",
      "Trained epoch: 4; loss: 0.006217396352440119\n",
      "Time elapsed in seconds: 2408.2197473049164\n"
     ]
    },
    {
     "data": {
      "text/plain": "<Figure size 640x480 with 1 Axes>",
      "image/png": "[encoded data removed]"
     },
     "metadata": {},
     "output_type": "display_data"
    }
   ],
   "source": [
    "model = Nl2SqlTranslator(nat_text_processor, sql_text_processor, fixed_embedding)\n",
    "\n",
    "train(5, model)"
   ],
   "metadata": {
    "collapsed": false,
    "pycharm": {
     "name": "#%%\n"
    }
   }
  },
  {
   "cell_type": "markdown",
   "source": [
    "El modelo muestra un rendimiento bastante prometedor, ahora es cuestión de hacer inferencias con el modelo"
   ],
   "metadata": {
    "collapsed": false,
    "pycharm": {
     "name": "#%% md\n"
    }
   }
  },
  {
   "cell_type": "markdown",
   "source": [
    "Para poder sacar inferencias, tenemos que hacer el mismo proceso que se hizo al entrenar, pasando por toda la red neuronal, solamente que aqui paramos al momento de obtener los valores del decodificador ya que esa será la predicción de nuestro modelo."
   ],
   "metadata": {
    "collapsed": false,
    "pycharm": {
     "name": "#%% md\n"
    }
   }
  },
  {
   "cell_type": "code",
   "execution_count": 26,
   "outputs": [],
   "source": [
    "def translate(nat_text, model:Nl2SqlTranslator, max_seq=100):\n",
    "    nl_tokens = model.nl_text_processor([nat_text])\n",
    "    nl_vectors = model.nl_embedding(nl_tokens, training=False)\n",
    "    nl_rnn_out, fhstate, fcstate, bhstate, bcstate = model.nl_rnn(nl_vectors, training=False)\n",
    "    nl_hstate = tf.concat([fhstate, bhstate], -1)\n",
    "    nl_cstate = tf.concat([fcstate, bcstate], -1)\n",
    "    state = [nl_hstate, nl_cstate]\n",
    "    print(nl_rnn_out.shape)\n",
    "\n",
    "    index_from_string = tf.keras.layers.StringLookup(\n",
    "        vocabulary=model.sql_text_processor.get_vocabulary(),\n",
    "        mask_token='')\n",
    "    trans = ['[START]']\n",
    "    vectors = []\n",
    "\n",
    "    for i in range(max_seq):\n",
    "        token = index_from_string([[trans[i]]])\n",
    "        vector = model.sql_embedding(token, training=False)\n",
    "        vectors.append(vector)\n",
    "        query = tf.concat(vectors, axis=1)\n",
    "        context = model.attention(inputs=[query, nl_rnn_out], training=False)\n",
    "        trans_vector, hstate, cstate = model.sql_rnn(context[:,-1:,:], initial_state=state, training=False)\n",
    "        state = [hstate, cstate]\n",
    "        out = model.out(trans_vector)\n",
    "        out = tf.squeeze(out)\n",
    "        word_index = tf.math.argmax(out)\n",
    "        word = model.sql_text_processor.get_vocabulary()[word_index]\n",
    "        trans.append(word)\n",
    "        if word == '[END]':\n",
    "            trans = trans[:-1]\n",
    "            break\n",
    "    _, atts = model.attention(inputs=[vectors, nl_rnn_out], return_attention_scores=True, training=False)\n",
    "    return ' '.join(trans[1:]), atts"
   ],
   "metadata": {
    "collapsed": false,
    "pycharm": {
     "name": "#%%\n"
    }
   }
  },
  {
   "cell_type": "markdown",
   "source": [
    "Ahora intentemos traducir"
   ],
   "metadata": {
    "collapsed": false,
    "pycharm": {
     "name": "#%% md\n"
    }
   }
  },
  {
   "cell_type": "code",
   "execution_count": 36,
   "outputs": [
    {
     "ename": "SyntaxError",
     "evalue": "invalid syntax (2494688461.py, line 1)",
     "output_type": "error",
     "traceback": [
      "\u001B[1;36m  Cell \u001B[1;32mIn [36], line 1\u001B[1;36m\u001B[0m\n\u001B[1;33m    Tristemente, nuestro modelo siempre genera un query similar al que se muestra anteriormente. Cada epoch y tiempo de entrenamiento es bastante alto, y para resolver este problema necesitariamos a todo nuestro equipo trabajando en esto, pero nuestro tiempo es limitado y este modelo no es lo único que se debe hacer, es por esto que hasta aqui dejamos este modelo, pero sin no antes reconocer que, con un problema más sencillo, este modelo pudo haber funcionado de maravilla.\u001B[0m\n\u001B[1;37m                         ^\u001B[0m\n\u001B[1;31mSyntaxError\u001B[0m\u001B[1;31m:\u001B[0m invalid syntax\n"
     ]
    }
   ],
   "source": [
    "print('show me the general population in ascending order')\n",
    "print(translate('show me the general population in ascending order', model))"
   ],
   "metadata": {
    "collapsed": false,
    "pycharm": {
     "name": "#%%\n"
    }
   }
  },
  {
   "cell_type": "markdown",
   "source": [
    "Tristemente, nuestro modelo siempre genera un query similar al que se muestra anteriormente. Cada epoch y tiempo de entrenamiento es bastante alto, y para resolver este problema necesitariamos a todo nuestro equipo trabajando en esto, pero nuestro tiempo es limitado y este modelo no es lo único que se debe hacer, es por esto que hasta aqui dejamos este modelo, pero sin no antes reconocer que, con un problema más sencillo, este modelo pudo haber funcionado de maravilla."
   ],
   "metadata": {
    "collapsed": false,
    "pycharm": {
     "name": "#%% md\n"
    }
   }
  }
 ],
 "metadata": {
  "kernelspec": {
   "display_name": "Python 3",
   "language": "python",
   "name": "python3"
  },
  "language_info": {
   "codemirror_mode": {
    "name": "ipython",
    "version": 2
   },
   "file_extension": ".py",
   "mimetype": "text/x-python",
   "name": "python",
   "nbconvert_exporter": "python",
   "pygments_lexer": "ipython2",
   "version": "2.7.6"
  }
 },
 "nbformat": 4,
 "nbformat_minor": 0
}