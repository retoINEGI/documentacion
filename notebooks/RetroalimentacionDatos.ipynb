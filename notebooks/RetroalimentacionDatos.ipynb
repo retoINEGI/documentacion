{
  "nbformat": 4,
  "nbformat_minor": 0,
  "metadata": {
    "colab": {
      "provenance": [],
      "collapsed_sections": [],
      "include_colab_link": true
    },
    "kernelspec": {
      "name": "python3",
      "display_name": "Python 3"
    },
    "language_info": {
      "name": "python"
    }
  },
  "cells": [
    {
      "cell_type": "markdown",
      "metadata": {
        "id": "view-in-github",
        "colab_type": "text"
      },
      "source": [
        "<a href=\"https://colab.research.google.com/github/JuanVaTe/NaturalLanguageProcessing/blob/main/RetroalimentacionDatos.ipynb\" target=\"_parent\"><img src=\"https://colab.research.google.com/assets/colab-badge.svg\" alt=\"Open In Colab\"/></a>"
      ]
    },
    {
      "cell_type": "markdown",
      "source": [
        "# Momento de Retroalimentación : Reto Datos\n",
        "\n",
        "---\n",
        "\n",
        "\n",
        "\n",
        "*   Jorge Chávez Badillo - A01749448\n",
        "*   Amy Murakami Tsutsumi - A01750185\n",
        "*   Ariadna Jocelyn Guzmán Jiménez - A01749373\n",
        "*   Juan Carlos Varela Tellez - A01367002\n",
        "*   Alan Eduardo Aquino Rosas - A01366912\n",
        "\n",
        "\n",
        "\n",
        "\n",
        "\n",
        "\n"
      ],
      "metadata": {
        "id": "YiL-U4PnSIh9"
      }
    },
    {
      "cell_type": "markdown",
      "source": [
        "# Herramientas y tecnologías utillizadas para el tratamiento de datos"
      ],
      "metadata": {
        "id": "R-Fac-3qwOw1"
      }
    },
    {
      "cell_type": "markdown",
      "source": [
        "* **[Apache Spark y PySpark](https://spark.apache.org/):** Apache Spark es un motor multi-lenguaje para poder leer y procesar grandes cantidades de datos que motores normales no podrian. Nos ayudará a el procesamiento de grandes cantidades de datos.\n",
        "\n",
        "* **[Python](https://www.python.org/):** Lenguaje de programación que nos permitirá el uso de múltiples bibliotecas para el análisis de datos y computación científica de Big Data.\n",
        "\n",
        "* **[SCINCE](https://gaia.inegi.org.mx/scince2020/):** El Sistema para la Consulta de Informacion Censal es una plataforma que nos permitira descargar los datos que necesitamos. Será nuestra base de consulta de datos del INEGI.\n",
        "\n",
        "* **[Google Colab](https://research.google.com/colaboratory/faq.html):** Servicio en la nube que nos permitirá la ejecución y realización de nuestro código.\n",
        "\n",
        "* **[Java](https://www.java.com/en/download/help/whatis_java.html):** Nos dará utilidad para la creación de procesos en Big Data, así como aplicaciones."
      ],
      "metadata": {
        "id": "ZlYwtAC8yVwr"
      }
    },
    {
      "cell_type": "markdown",
      "source": [
        "# Modelo de almacenamiento de datos\n"
      ],
      "metadata": {
        "id": "oluEd_EOwcU7"
      }
    },
    {
      "cell_type": "markdown",
      "source": [
        "Ya realizado el tutorial #1 de Geo Big Data, logramos descargar los datos del Censo de Población y Vivienda 2020 en su distribución SCINCE y los datos del Directorio Estadístico Nacional de Unidades Económicas DENUE en nuestra máquina local. Sin embargo, para nuestro trabajo en equipo y una facilidad en acceso y manupulación a los datos, utilizaremos un almacenamiento en la nube, donde con ayuda de Google Drive, importaremos los datos a nuestros scripts implementados para poder realizar los procedimientos necesarios de nuestro proyecto. \n",
        "\n"
      ],
      "metadata": {
        "id": "8LGGe8XSP4UC"
      }
    },
    {
      "cell_type": "markdown",
      "source": [
        "# Extracción, limpieza y carga de datos"
      ],
      "metadata": {
        "id": "eTgOgclEwiZh"
      }
    },
    {
      "cell_type": "code",
      "execution_count": null,
      "metadata": {
        "colab": {
          "base_uri": "https://localhost:8080/"
        },
        "id": "ruwKAduASA5H",
        "outputId": "f9e3c48b-2418-42b7-e7de-9aa25a9d53c5"
      },
      "outputs": [
        {
          "output_type": "stream",
          "name": "stdout",
          "text": [
            "Looking in indexes: https://pypi.org/simple, https://us-python.pkg.dev/colab-wheels/public/simple/\n",
            "Requirement already satisfied: tpot in /usr/local/lib/python3.7/dist-packages (0.11.7)\n",
            "Requirement already satisfied: update-checker>=0.16 in /usr/local/lib/python3.7/dist-packages (from tpot) (0.18.0)\n",
            "Requirement already satisfied: pandas>=0.24.2 in /usr/local/lib/python3.7/dist-packages (from tpot) (1.3.5)\n",
            "Requirement already satisfied: tqdm>=4.36.1 in /usr/local/lib/python3.7/dist-packages (from tpot) (4.64.1)\n",
            "Requirement already satisfied: xgboost>=1.1.0 in /usr/local/lib/python3.7/dist-packages (from tpot) (1.6.2)\n",
            "Requirement already satisfied: deap>=1.2 in /usr/local/lib/python3.7/dist-packages (from tpot) (1.3.3)\n",
            "Requirement already satisfied: scipy>=1.3.1 in /usr/local/lib/python3.7/dist-packages (from tpot) (1.7.3)\n",
            "Requirement already satisfied: joblib>=0.13.2 in /usr/local/lib/python3.7/dist-packages (from tpot) (1.2.0)\n",
            "Requirement already satisfied: stopit>=1.1.1 in /usr/local/lib/python3.7/dist-packages (from tpot) (1.1.2)\n",
            "Requirement already satisfied: numpy>=1.16.3 in /usr/local/lib/python3.7/dist-packages (from tpot) (1.21.6)\n",
            "Requirement already satisfied: scikit-learn>=0.22.0 in /usr/local/lib/python3.7/dist-packages (from tpot) (1.0.2)\n",
            "Requirement already satisfied: pytz>=2017.3 in /usr/local/lib/python3.7/dist-packages (from pandas>=0.24.2->tpot) (2022.4)\n",
            "Requirement already satisfied: python-dateutil>=2.7.3 in /usr/local/lib/python3.7/dist-packages (from pandas>=0.24.2->tpot) (2.8.2)\n",
            "Requirement already satisfied: six>=1.5 in /usr/local/lib/python3.7/dist-packages (from python-dateutil>=2.7.3->pandas>=0.24.2->tpot) (1.15.0)\n",
            "Requirement already satisfied: threadpoolctl>=2.0.0 in /usr/local/lib/python3.7/dist-packages (from scikit-learn>=0.22.0->tpot) (3.1.0)\n",
            "Requirement already satisfied: requests>=2.3.0 in /usr/local/lib/python3.7/dist-packages (from update-checker>=0.16->tpot) (2.23.0)\n",
            "Requirement already satisfied: certifi>=2017.4.17 in /usr/local/lib/python3.7/dist-packages (from requests>=2.3.0->update-checker>=0.16->tpot) (2022.9.24)\n",
            "Requirement already satisfied: chardet<4,>=3.0.2 in /usr/local/lib/python3.7/dist-packages (from requests>=2.3.0->update-checker>=0.16->tpot) (3.0.4)\n",
            "Requirement already satisfied: idna<3,>=2.5 in /usr/local/lib/python3.7/dist-packages (from requests>=2.3.0->update-checker>=0.16->tpot) (2.10)\n",
            "Requirement already satisfied: urllib3!=1.25.0,!=1.25.1,<1.26,>=1.21.1 in /usr/local/lib/python3.7/dist-packages (from requests>=2.3.0->update-checker>=0.16->tpot) (1.24.3)\n",
            "\u001b[31mERROR: Could not open requirements file: [Errno 2] No such file or directory: 'pip-forge'\u001b[0m\n",
            "\u001b[31mERROR: Could not open requirements file: [Errno 2] No such file or directory: 'pip-forge'\u001b[0m\n"
          ]
        }
      ],
      "source": [
        "#  TPOT instalation\n",
        "!pip install tpot\n",
        "\n",
        "!pip install -c pip-forge tpot # Core dependencies\n",
        "\n",
        "!pip install -c pip-forge tpot xgboost dask dask-ml scikit-mdr skrebate # Aditional dependencies\n"
      ]
    },
    {
      "cell_type": "code",
      "source": [
        "# Spark\n",
        "# Install pyspark\n",
        "!pip install pyspark\n",
        "\n",
        "# Import SparkSession\n",
        "from pyspark.sql import SparkSession\n",
        "# Create a Spark Session\n",
        "spark = SparkSession.builder.master(\"local[*]\").getOrCreate()\n",
        "# Check Spark Session Information\n",
        "spark\n",
        "\n",
        "\n",
        "# Findspark\n",
        "!pip install -q findspark"
      ],
      "metadata": {
        "colab": {
          "base_uri": "https://localhost:8080/"
        },
        "id": "J4WQ9ExhTq13",
        "outputId": "cc33a965-0553-4919-e1b3-8ec55bc194ef"
      },
      "execution_count": null,
      "outputs": [
        {
          "output_type": "stream",
          "name": "stdout",
          "text": [
            "Looking in indexes: https://pypi.org/simple, https://us-python.pkg.dev/colab-wheels/public/simple/\n",
            "Requirement already satisfied: pyspark in /usr/local/lib/python3.7/dist-packages (3.3.0)\n",
            "Requirement already satisfied: py4j==0.10.9.5 in /usr/local/lib/python3.7/dist-packages (from pyspark) (0.10.9.5)\n"
          ]
        }
      ]
    },
    {
      "cell_type": "code",
      "source": [
        "# Geopandas\n",
        "!pip install geopandas"
      ],
      "metadata": {
        "colab": {
          "base_uri": "https://localhost:8080/"
        },
        "id": "9OV0yQjyUoUE",
        "outputId": "926e2061-6481-4022-dca7-53e0b1b9cef5"
      },
      "execution_count": null,
      "outputs": [
        {
          "output_type": "stream",
          "name": "stdout",
          "text": [
            "Looking in indexes: https://pypi.org/simple, https://us-python.pkg.dev/colab-wheels/public/simple/\n",
            "Requirement already satisfied: geopandas in /usr/local/lib/python3.7/dist-packages (0.10.2)\n",
            "Requirement already satisfied: shapely>=1.6 in /usr/local/lib/python3.7/dist-packages (from geopandas) (1.8.4)\n",
            "Requirement already satisfied: fiona>=1.8 in /usr/local/lib/python3.7/dist-packages (from geopandas) (1.8.21)\n",
            "Requirement already satisfied: pandas>=0.25.0 in /usr/local/lib/python3.7/dist-packages (from geopandas) (1.3.5)\n",
            "Requirement already satisfied: pyproj>=2.2.0 in /usr/local/lib/python3.7/dist-packages (from geopandas) (3.2.1)\n",
            "Requirement already satisfied: six>=1.7 in /usr/local/lib/python3.7/dist-packages (from fiona>=1.8->geopandas) (1.15.0)\n",
            "Requirement already satisfied: attrs>=17 in /usr/local/lib/python3.7/dist-packages (from fiona>=1.8->geopandas) (22.1.0)\n",
            "Requirement already satisfied: cligj>=0.5 in /usr/local/lib/python3.7/dist-packages (from fiona>=1.8->geopandas) (0.7.2)\n",
            "Requirement already satisfied: click-plugins>=1.0 in /usr/local/lib/python3.7/dist-packages (from fiona>=1.8->geopandas) (1.1.1)\n",
            "Requirement already satisfied: munch in /usr/local/lib/python3.7/dist-packages (from fiona>=1.8->geopandas) (2.5.0)\n",
            "Requirement already satisfied: setuptools in /usr/local/lib/python3.7/dist-packages (from fiona>=1.8->geopandas) (57.4.0)\n",
            "Requirement already satisfied: click>=4.0 in /usr/local/lib/python3.7/dist-packages (from fiona>=1.8->geopandas) (7.1.2)\n",
            "Requirement already satisfied: certifi in /usr/local/lib/python3.7/dist-packages (from fiona>=1.8->geopandas) (2022.9.24)\n",
            "Requirement already satisfied: pytz>=2017.3 in /usr/local/lib/python3.7/dist-packages (from pandas>=0.25.0->geopandas) (2022.4)\n",
            "Requirement already satisfied: python-dateutil>=2.7.3 in /usr/local/lib/python3.7/dist-packages (from pandas>=0.25.0->geopandas) (2.8.2)\n",
            "Requirement already satisfied: numpy>=1.17.3 in /usr/local/lib/python3.7/dist-packages (from pandas>=0.25.0->geopandas) (1.21.6)\n"
          ]
        }
      ]
    },
    {
      "cell_type": "code",
      "source": [
        "# Sedona\n",
        "!pip install apache-sedona"
      ],
      "metadata": {
        "colab": {
          "base_uri": "https://localhost:8080/"
        },
        "id": "tykLb-42U0VF",
        "outputId": "8abd4f87-29eb-4ea4-be57-0639b5ad925f"
      },
      "execution_count": null,
      "outputs": [
        {
          "output_type": "stream",
          "name": "stdout",
          "text": [
            "Looking in indexes: https://pypi.org/simple, https://us-python.pkg.dev/colab-wheels/public/simple/\n",
            "Requirement already satisfied: apache-sedona in /usr/local/lib/python3.7/dist-packages (1.2.1)\n",
            "Requirement already satisfied: shapely in /usr/local/lib/python3.7/dist-packages (from apache-sedona) (1.8.4)\n",
            "Requirement already satisfied: attrs in /usr/local/lib/python3.7/dist-packages (from apache-sedona) (22.1.0)\n"
          ]
        }
      ]
    },
    {
      "cell_type": "code",
      "source": [
        "# Libraries\n",
        "import findspark\n",
        "findspark.init()\n",
        "import shapely\n",
        "import geopandas as gpd\n",
        "from tpot import TPOTClassifier\n",
        "from sklearn.datasets import load_iris\n",
        "from sklearn.model_selection import train_test_split\n",
        "import numpy as np\n",
        "import pandas as pd\n",
        "from  pyspark.sql.functions import rand\n",
        "from pyspark.sql.functions import lower,col,lit\n",
        "from pyspark.sql import SparkSession\n",
        "from pyspark import SparkContext\n",
        "from pyspark import SparkConf\n",
        "from sedona.register import SedonaRegistrator\n",
        "from sedona.utils import SedonaKryoRegistrator, KryoSerializer\n",
        "from  pyspark.sql.functions import rand\n",
        "from pyspark.sql.functions import lower,col,lit\n"
      ],
      "metadata": {
        "id": "xPbCklTBTGCq"
      },
      "execution_count": null,
      "outputs": []
    },
    {
      "cell_type": "code",
      "source": [
        "# Drive connection\n",
        "from google.colab import drive\n",
        "drive.mount(\"/content/gdrive\", force_remount=True)"
      ],
      "metadata": {
        "colab": {
          "base_uri": "https://localhost:8080/"
        },
        "id": "23GvouZsXCQD",
        "outputId": "c4883a22-c738-46b3-afe5-780b8adfbd4c"
      },
      "execution_count": null,
      "outputs": [
        {
          "output_type": "stream",
          "name": "stdout",
          "text": [
            "Mounted at /content/gdrive\n"
          ]
        }
      ]
    },
    {
      "cell_type": "code",
      "source": [
        "# Start Apache Spark\n",
        "spark = SparkSession. \\\n",
        "builder. \\\n",
        "appName('appName'). \\\n",
        "config(\"spark.serializer\", KryoSerializer.getName). \\\n",
        "config(\"spark.executor.memory\", \"5g\"). \\\n",
        "config(\"spark.driver.memory\", \"10g\"). \\\n",
        "config('spark.driver.maxResultSize', '5g'). \\\n",
        "config(\"spark.kryo.registrator\", SedonaKryoRegistrator.getName). \\\n",
        "config('spark.jars.packages',\n",
        "           'org.apache.sedona:sedona-python-adapter-3.0_2.12:1.2.0-incubating,org.datasyslab:geotools-wrapper:1.1.0-25.2'). \\\n",
        "getOrCreate()\n"
      ],
      "metadata": {
        "id": "z0S2iOg4TvLL"
      },
      "execution_count": null,
      "outputs": []
    },
    {
      "cell_type": "code",
      "source": [
        "# Read data\n",
        "\n",
        "BD_DENUE = spark.read.parquet(f\"/content/gdrive/Shareddrives/Reto INEGI/Data_INEGI/DENUE_Parquets/*.parquet\")\n",
        "BD_DENUE.createOrReplaceTempView(\"denue\")\n",
        "BD_DENUE.cache()\n",
        "\n",
        "BD_CENSO = spark.read.parquet(f\"/content/gdrive/Shareddrives/Reto INEGI/Data_INEGI/SCINCE_Parquets/*.parquet\")\n",
        "BD_CENSO.createOrReplaceTempView(\"censo\")\n",
        "BD_CENSO.cache()"
      ],
      "metadata": {
        "colab": {
          "base_uri": "https://localhost:8080/"
        },
        "id": "_CmACzyiVVaI",
        "outputId": "fd271019-4bb9-42fe-9283-1b38a1f0ef44"
      },
      "execution_count": null,
      "outputs": [
        {
          "output_type": "execute_result",
          "data": {
            "text/plain": [
              "DataFrame[CVEGEO: string, POB1: double, POB2: double, POB2_R: double, POB4: double, POB4_R: double, POB5: double, POB5_R: double, POB6: double, POB6_R: double, POB7: double, POB7_R: double, POB8: double, POB8_R: double, POB9: double, POB9_R: double, POB10: double, POB10_R: double, POB11: double, POB11_R: double, POB12: double, POB12_R: double, POB13: double, POB13_R: double, POB14: double, POB14_R: double, POB15: double, POB15_R: double, POB17: double, POB17_R: double, POB18: double, POB18_R: double, POB19: double, POB19_R: double, POB20: double, POB20_R: double, POB21: double, POB21_R: double, POB22: double, POB22_R: double, POB23: double, POB23_R: double, POB24: double, POB24_R: double, POB25: double, POB25_R: double, POB42: double, POB42_R: double, POB43: double, POB43_R: double, POB45: double, POB45_R: double, POB46: double, POB46_R: double, POB47: double, POB47_R: double, POB48: double, POB48_R: double, POB49: double, POB49_R: double, POB50: double, POB50_R: double, POB51: double, POB51_R: double, POB52: double, POB52_R: double, POB53: double, POB53_R: double, POB54: double, POB54_R: double, POB55: double, POB55_R: double, POB56: double, POB56_R: double, POB57: double, POB57_R: double, POB59: double, POB59_R: double, POB60: double, POB60_R: double, POB61: double, POB61_R: double, POB62: double, POB62_R: double, POB63: double, POB63_R: double, POB64: double, POB64_R: double, POB65: double, POB65_R: double, POB66: double, POB66_R: double, POB67: double, POB67_R: double, POB84: double, POB84_R: double, POB85: double, POB85_R: double, POB87: double, POB87_R: double, POB88: double, POB88_R: double, POB89: double, POB89_R: double, POB90: double, POB90_R: double, POB91: double, POB91_R: double, POB92: double, POB92_R: double, POB93: double, POB93_R: double, POB94: double, POB94_R: double, POB95: double, POB95_R: double, POB96: double, POB96_R: double, POB97: double, POB97_R: double, POB98: double, POB98_R: double, POB100: double, POB100_R: double, POB101: double, POB101_R: double, POB102: double, POB102_R: double, POB103: double, POB103_R: double, POB104: double, POB104_R: double, POB105: double, POB105_R: double, POB106: double, POB106_R: double, POB107: double, POB107_R: double, POB108: double, POB108_R: double, POB125_R: double, POB126_R: double, POB127_R: double, POB128_R: double, POB129_R: double, POB130_R: double, POB131_R: double, POB132_R: double, POB133_R: double, POB134_R: double, POB3: double, POB3_R: double, POB16: double, POB16_R: double, POB26: double, POB26_R: double, POB27: double, POB27_R: double, POB28: double, POB28_R: double, POB29: double, POB29_R: double, POB30: double, POB30_R: double, POB31: double, POB31_R: double, POB32: double, POB32_R: double, POB33: double, POB33_R: double, POB34: double, POB34_R: double, POB35: double, POB35_R: double, POB36: double, POB36_R: double, POB37: double, POB37_R: double, POB38: double, POB38_R: double, POB39: double, POB39_R: double, POB40: double, POB40_R: double, POB41: double, POB41_R: double, POB44: double, POB44_R: double, POB58: double, POB58_R: double, POB68: double, POB68_R: double, POB69: double, POB69_R: double, POB70: double, POB70_R: double, POB71: double, POB71_R: double, POB72: double, POB72_R: double, POB73: double, POB73_R: double, POB74: double, POB74_R: double, POB75: double, POB75_R: double, POB76: double, POB76_R: double, POB77: double, POB77_R: double, POB78: double, POB78_R: double, POB79: double, POB79_R: double, POB80: double, POB80_R: double, POB81: double, POB81_R: double, POB82: double, POB82_R: double, POB83: double, POB83_R: double, POB86: double, POB86_R: double, POB99: double, POB99_R: double, POB109: double, POB109_R: double, POB110: double, POB110_R: double, POB111: double, POB111_R: double, POB112: double, POB112_R: double, POB113: double, POB113_R: double, POB114: double, POB114_R: double, POB115: double, POB115_R: double, POB116: double, POB116_R: double, POB117: double, POB117_R: double, POB118: double, POB118_R: double, POB119: double, POB119_R: double, POB120: double, POB120_R: double, POB121: double, POB121_R: double, POB122: double, POB122_R: double, POB123: double, POB123_R: double, POB124: double, POB124_R: double, OID: bigint, geometry: array<tinyint>, ECO1: double, ECO1_R: double, ECO2: double, ECO2_R: double, ECO3: double, ECO3_R: double, ECO4: double, ECO4_R: double, ECO5: double, ECO5_R: double, ECO6: double, ECO6_R: double, ECO7: double, ECO7_R: double, ECO10: double, ECO10_R: double, ECO13: double, ECO13_R: double, ECO16: double, ECO16_R: double, ECO19: double, ECO19_R: double, ECO22: double, ECO22_R: double, ECO25: double, ECO25_R: double, ECO26: double, ECO26_R: double, ECO27: double, ECO27_R: double, ECO28: double, ECO28_R: double, ECO29: double, ECO29_R: double, ECO30: double, ECO30_R: double, ECO31: double, ECO31_R: double, ECO34: double, ECO34_R: double, ECO37: double, ECO37_R: double, ECO40: double, ECO40_R: double, ECO43: double, ECO43_R: double, DISC1: double, DISC1_R: double, DISC2: double, DISC2_R: double, DISC3: double, DISC3_R: double, DISC4: double, DISC4_R: double, DISC5: double, DISC5_R: double, DISC6: double, DISC6_R: double, DISC7: double, DISC7_R: double, DISC8: double, DISC8_R: double, DISC9: double, DISC9_R: double, DISC10: double, DISC10_R: double, DISC11: double, DISC11_R: double, DISC12: double, DISC12_R: double, DISC13: double, DISC13_R: double, DISC14: double, DISC14_R: double, DISC15: double, DISC15_R: double, DISC16: double, DISC16_R: double, DISC17: double, DISC17_R: double, DISC18: double, DISC18_R: double, DISC19: double, DISC19_R: double, DISC20: double, DISC20_R: double, EDU1: double, EDU1_R: double, EDU4: double, EDU4_R: double, EDU7: double, EDU7_R: double, EDU10: double, EDU10_R: double, EDU13: double, EDU13_R: double, EDU16: double, EDU16_R: double, EDU19: double, EDU19_R: double, EDU22: double, EDU22_R: double, EDU25: double, EDU25_R: double, EDU28: double, EDU28_R: double, EDU31: double, EDU31_R: double, EDU34: double, EDU34_R: double, EDU37: double, EDU37_R: double, EDU40: double, EDU40_R: double, EDU43: double, EDU43_R: double, EDU46: double, EDU46_R: double, EDU49_R: double, EDU50_R: double, EDU51_R: double, INDI1: double, INDI1_R: double, INDI4: double, INDI4_R: double, INDI7: double, INDI7_R: double, INDI10: double, INDI10_R: double, INDI13: double, INDI13_R: double, INDI16: double, INDI16_R: double, INDI19: double, INDI19_R: double, INDI20: double, INDI20_R: double, AFRO1: double, AFRO1_R: double, AFRO2: double, AFRO2_R: double, AFRO3: double, AFRO3_R: double, AFRO4: double, AFRO4_R: double, AFRO5: double, AFRO5_R: double, AFRO6: double, AFRO6_R: double, FEC1_R: double, FEC2_R: double, FEC3_R: double, HOGAR1: double, HOGAR2: double, HOGAR2_R: double, HOGAR3: double, HOGAR3_R: double, HOGAR4: double, HOGAR5: double, HOGAR5_R: double, HOGAR6: double, HOGAR6_R: double, HOGAR7: double, HOGAR7_R: double, HOGAR10: double, HOGAR10_R: double, HOGAR13: double, HOGAR13_R: double, HOGAR16: double, HOGAR16_R: double, HOGAR19: double, HOGAR19_R: double, HOGAR22: double, HOGAR22_R: double, HOGAR25: double, HOGAR25_R: double, HOGAR26: double, HOGAR26_R: double, MIG1: double, MIG1_R: double, MIG2: double, MIG2_R: double, MIG3: double, MIG3_R: double, MIG4: double, MIG4_R: double, MIG5: double, MIG5_R: double, MIG6: double, MIG6_R: double, MIG7: double, MIG7_R: double, MIG8: double, MIG8_R: double, MIG9: double, MIG9_R: double, MIG10: double, MIG10_R: double, MIG11: double, MIG11_R: double, MIG12: double, MIG12_R: double, MIG13: double, MIG13_R: double, MIG14: double, MIG14_R: double, MIG15: double, MIG15_R: double, MOR1_R: double, RELIG1: double, RELIG1_R: double, RELIG2: double, RELIG2_R: double, RELIG3: double, RELIG3_R: double, RELIG4: double, RELIG4_R: double, SALUD1: double, SALUD1_R: double, SALUD2: double, SALUD2_R: double, SALUD3: double, SALUD3_R: double, SALUD4: double, SALUD4_R: double, SALUD5: double, SALUD5_R: double, SALUD6: double, SALUD6_R: double, SALUD7: double, SALUD7_R: double, SALUD8: double, SALUD8_R: double, SALUD9: double, SALUD9_R: double, SALUD10: double, SALUD10_R: double, SCONY1: double, SCONY1_R: double, SCONY4: double, SCONY4_R: double, SCONY7: double, SCONY7_R: double, SCONY10: double, SCONY10_R: double, VIV0: double, VIV1: double, VIV2: double, VIV2_R: double, VIV3: double, VIV3_R: double, VIV4: double, VIV4_R: double, VIV5: double, VIV5_R: double, VIV6: double, VIV6_R: double, VIV7: double, VIV7_R: double, VIV8: double, VIV8_R: double, VIV9: double, VIV9_R: double, VIV10: double, VIV10_R: double, VIV11: double, VIV11_R: double, VIV12: double, VIV12_R: double, VIV13: double, VIV13_R: double, VIV14: double, VIV14_R: double, VIV15: double, VIV15_R: double, VIV16: double, VIV16_R: double, VIV17: double, VIV17_R: double, VIV18: double, VIV18_R: double, VIV19: double, VIV19_R: double, VIV20: double, VIV20_R: double, VIV21: double, VIV21_R: double, VIV22: double, VIV22_R: double, VIV23: double, VIV23_R: double, VIV24: double, VIV24_R: double, VIV25: double, VIV25_R: double, VIV26: double, VIV26_R: double, VIV27: double, VIV27_R: double, VIV28: double, VIV28_R: double, VIV29: double, VIV29_R: double, VIV30: double, VIV30_R: double, VIV31: double, VIV31_R: double, VIV32: double, VIV32_R: double, VIV33: double, VIV33_R: double, VIV34: double, VIV34_R: double, VIV35: double, VIV35_R: double, VIV36: double, VIV36_R: double, VIV37: double, VIV37_R: double, VIV38: double, VIV38_R: double, VIV39: double, VIV39_R: double, VIV40: double, VIV40_R: double, VIV41: double, VIV41_R: double, VIV42: double, VIV42_R: double, VIV43: double, VIV43_R: double, VIV70: double, VIV70_R: double, VIV75: double, VIV75_R: double, VIV76: double, VIV76_R: double, VIV77: double, VIV77_R: double, VIV78: double, VIV78_R: double, VIV79: double, VIV79_R: double, VIV80: double, VIV80_R: double, VIV81: double, VIV81_R: double, VIV82: double, VIV82_R: double, VIV83: double, VIV83_R: double, VIV84: double, VIV84_R: double, VIV90: double, VIV90_R: double, VIV91: double, VIV91_R: double, VIV92_R: double, VIV93_R: double, VIV94: double]"
            ]
          },
          "metadata": {},
          "execution_count": 8
        }
      ]
    },
    {
      "cell_type": "code",
      "source": [
        "OXXO_Nacional = spark.sql(\"\"\"select \n",
        "                                  1 as klass,\n",
        "                                  id, clee,\n",
        "                                  LOWER(nom_estab) nom_estab ,\n",
        "                                  cve_ent,\n",
        "                                  per_ocu,\n",
        "                                  geometry\n",
        "                            from denue\n",
        "                            where denue.codigo_act in ('462112') and\n",
        "                            LOWER(nom_estab) like '%oxxo%' and\n",
        "                            LOWER(nom_estab) not like '%distribuc%' \"\"\")\n",
        "OXXO_Nacional.count()"
      ],
      "metadata": {
        "colab": {
          "base_uri": "https://localhost:8080/"
        },
        "id": "tSnAJqY0XJ5C",
        "outputId": "1500cb1b-2d9e-4f86-d655-89f321d88e8d"
      },
      "execution_count": null,
      "outputs": [
        {
          "output_type": "execute_result",
          "data": {
            "text/plain": [
              "16846"
            ]
          },
          "metadata": {},
          "execution_count": 9
        }
      ]
    },
    {
      "cell_type": "code",
      "source": [
        "OXXO_Nacional.show(15, False)"
      ],
      "metadata": {
        "colab": {
          "base_uri": "https://localhost:8080/"
        },
        "id": "pjKtlsRdX7aT",
        "outputId": "daa0c815-0db3-4abe-8afe-b33eb24ca6cb"
      },
      "execution_count": null,
      "outputs": [
        {
          "output_type": "stream",
          "name": "stdout",
          "text": [
            "+-----+-------+----------------------------+-------------------------------+-------+---------------+--------------------------------------------------------------------------------------------+\n",
            "|klass|id     |clee                        |nom_estab                      |cve_ent|per_ocu        |geometry                                                                                    |\n",
            "+-----+-------+----------------------------+-------------------------------+-------+---------------+--------------------------------------------------------------------------------------------+\n",
            "|1    |6707829|15106462112002281001008202S6|cadena comercial oxxo sa de cv |15     |6 a 10 personas|[1, 1, 0, 0, 0, -90, -3, -35, 42, 8, 5, 69, 65, -59, -113, -48, -71, -46, -32, 40, 65]      |\n",
            "|1    |6698194|15104462112001662000008202S3|cadena comercial oxxo          |15     |6 a 10 personas|[1, 1, 0, 0, 0, 18, -12, -34, 32, -124, 82, 69, 65, 19, 52, -84, 104, 36, -84, 41, 65]      |\n",
            "|1    |6707885|15104462112001652000008202S4|cadena comercial oxxo          |15     |6 a 10 personas|[1, 1, 0, 0, 0, 66, 20, 28, 112, 113, 82, 69, 65, -13, 123, -11, 1, -17, -85, 41, 65]       |\n",
            "|1    |6712529|15118462112000402000008202S5|cadena comercial oxxo sa de cv |15     |6 a 10 personas|[1, 1, 0, 0, 0, 40, -65, -60, 45, -125, -27, 68, 65, -87, -110, 41, 80, -33, -60, 40, 65]   |\n",
            "|1    |6698214|15104462112001702000008202S7|cadena comercial oxxo sa de cv |15     |6 a 10 personas|[1, 1, 0, 0, 0, 74, 94, 78, 28, 30, 81, 69, 65, -56, -76, 104, 78, -113, -90, 41, 65]       |\n",
            "|1    |6707828|15087462112000082000008202S2|cadena comercial oxxo sa de cv |15     |6 a 10 personas|[1, 1, 0, 0, 0, -28, 119, 27, -55, 33, 2, 69, 65, -65, 76, -81, -21, -110, 45, 41, 65]      |\n",
            "|1    |6720434|15087462112000072000008202S3|cadena comercial oxxo sa de cv |15     |6 a 10 personas|[1, 1, 0, 0, 0, 16, -55, -120, -18, -67, -6, 68, 65, 0, -123, -60, 7, -128, 50, 41, 65]     |\n",
            "|1    |6705634|15013462112000921001008202S7|tienda oxxo                    |15     |6 a 10 personas|[1, 1, 0, 0, 0, -46, -111, -42, -25, 126, 71, 69, 65, 7, 91, -15, 100, -117, -29, 41, 65]   |\n",
            "|1    |6851863|15081462112001352000008202S1|oxxo suc 50i5w real del cid mex|15     |6 a 10 personas|[1, 1, 0, 0, 0, 62, 118, -123, 59, -88, 115, 69, 65, -80, -116, 66, 45, 89, 8, 42, 65]      |\n",
            "|1    |6850452|15013462112001322000008202S7|oxxo suc 50i5q carreta mex     |15     |6 a 10 personas|[1, 1, 0, 0, 0, 107, -109, -86, -68, -46, 72, 69, 65, 27, 59, -44, -61, -59, -38, 41, 65]   |\n",
            "|1    |6845766|15083462112000042000008202S5|oxxo suc 50i5j temamatla mex   |15     |6 a 10 personas|[1, 1, 0, 0, 0, 102, -93, 57, -128, 63, -109, 69, 65, 65, -80, 71, -44, 57, -117, 40, 65]   |\n",
            "|1    |6347003|15057462112001291001008202S1|oxxo suc 50hzc huizachal mex   |15     |6 a 10 personas|[1, 1, 0, 0, 0, 29, 94, -66, 101, 40, 69, 69, 65, -76, -95, 65, 18, 96, 72, 41, 65]         |\n",
            "|1    |6346906|15025462112000281001008202S0|oxxo suc 50iau cuatzingo mex   |15     |6 a 10 personas|[1, 1, 0, 0, 0, 31, -97, -28, -125, -117, -106, 69, 65, -120, 39, 56, 30, -112, -63, 40, 65]|\n",
            "|1    |6854758|15012462112000081000008202S2|oxxo suc 50i86 atizapan tlc    |15     |6 a 10 personas|[1, 1, 0, 0, 0, 4, 32, 60, 118, -107, 21, 69, 65, -92, 77, -102, 29, -127, 112, 40, 65]     |\n",
            "|1    |6846793|15081462112001232000008202S5|oxxo suc 50i82 circuito 13     |15     |6 a 10 personas|[1, 1, 0, 0, 0, 126, -122, -75, -113, 17, 114, 69, 65, 2, 96, 116, 7, -62, -19, 41, 65]     |\n",
            "+-----+-------+----------------------------+-------------------------------+-------+---------------+--------------------------------------------------------------------------------------------+\n",
            "only showing top 15 rows\n",
            "\n"
          ]
        }
      ]
    },
    {
      "cell_type": "code",
      "source": [
        "dfOXXO = OXXO_Nacional.toPandas()\n",
        "dfOXXO "
      ],
      "metadata": {
        "colab": {
          "base_uri": "https://localhost:8080/",
          "height": 424
        },
        "id": "DTjTYt_wIUP_",
        "outputId": "db30ac5c-104b-4c3a-af19-1fd0d7a04ee9"
      },
      "execution_count": null,
      "outputs": [
        {
          "output_type": "execute_result",
          "data": {
            "text/plain": [
              "       klass       id                          clee  \\\n",
              "0          1  6707829  15106462112002281001008202S6   \n",
              "1          1  6698194  15104462112001662000008202S3   \n",
              "2          1  6707885  15104462112001652000008202S4   \n",
              "3          1  6712529  15118462112000402000008202S5   \n",
              "4          1  6698214  15104462112001702000008202S7   \n",
              "...      ...      ...                           ...   \n",
              "16841      1  6289174  03003462112002521001008202S8   \n",
              "16842      1  6780492  03008462112005702000008202S0   \n",
              "16843      1  6797351  03003462112004641000008202S2   \n",
              "16844      1  6797526  03008462112005941000008202S4   \n",
              "16845      1  6288513  03008462112002721001008202S3   \n",
              "\n",
              "                            nom_estab cve_ent          per_ocu  \\\n",
              "0      cadena comercial oxxo sa de cv      15  6 a 10 personas   \n",
              "1               cadena comercial oxxo      15  6 a 10 personas   \n",
              "2               cadena comercial oxxo      15  6 a 10 personas   \n",
              "3      cadena comercial oxxo sa de cv      15  6 a 10 personas   \n",
              "4      cadena comercial oxxo sa de cv      15  6 a 10 personas   \n",
              "...                               ...     ...              ...   \n",
              "16841      oxxo suc 50cvg durango lap      03  6 a 10 personas   \n",
              "16842   oxxo suc 50dlr cabo villa lap      03  6 a 10 personas   \n",
              "16843  oxxo suc 50dyx libramiento lap      03  6 a 10 personas   \n",
              "16844       oxxo suc 50drz obrera lap      03  6 a 10 personas   \n",
              "16845   oxxo suc 50dwg delegacion lap      03  6 a 10 personas   \n",
              "\n",
              "                                                geometry  \n",
              "0      [1, 1, 0, 0, 0, -90, -3, -35, 42, 8, 5, 69, 65...  \n",
              "1      [1, 1, 0, 0, 0, 18, -12, -34, 32, -124, 82, 69...  \n",
              "2      [1, 1, 0, 0, 0, 66, 20, 28, 112, 113, 82, 69, ...  \n",
              "3      [1, 1, 0, 0, 0, 40, -65, -60, 45, -125, -27, 6...  \n",
              "4      [1, 1, 0, 0, 0, 74, 94, 78, 28, 30, 81, 69, 65...  \n",
              "...                                                  ...  \n",
              "16841  [1, 1, 0, 0, 0, -66, 72, -33, 49, 59, 90, 57, ...  \n",
              "16842  [1, 1, 0, 0, 0, 45, 106, 37, -80, -1, -43, 57,...  \n",
              "16843  [1, 1, 0, 0, 0, 30, -48, -17, 124, -56, 91, 57...  \n",
              "16844  [1, 1, 0, 0, 0, -72, 58, -62, 102, -84, -52, 5...  \n",
              "16845  [1, 1, 0, 0, 0, -26, -36, 61, 105, 116, -48, 5...  \n",
              "\n",
              "[16846 rows x 7 columns]"
            ],
            "text/html": [
              "\n",
              "  <div id=\"df-c9bdcd75-49fc-4ff5-b7bb-beced4c98032\">\n",
              "    <div class=\"colab-df-container\">\n",
              "      <div>\n",
              "<style scoped>\n",
              "    .dataframe tbody tr th:only-of-type {\n",
              "        vertical-align: middle;\n",
              "    }\n",
              "\n",
              "    .dataframe tbody tr th {\n",
              "        vertical-align: top;\n",
              "    }\n",
              "\n",
              "    .dataframe thead th {\n",
              "        text-align: right;\n",
              "    }\n",
              "</style>\n",
              "<table border=\"1\" class=\"dataframe\">\n",
              "  <thead>\n",
              "    <tr style=\"text-align: right;\">\n",
              "      <th></th>\n",
              "      <th>klass</th>\n",
              "      <th>id</th>\n",
              "      <th>clee</th>\n",
              "      <th>nom_estab</th>\n",
              "      <th>cve_ent</th>\n",
              "      <th>per_ocu</th>\n",
              "      <th>geometry</th>\n",
              "    </tr>\n",
              "  </thead>\n",
              "  <tbody>\n",
              "    <tr>\n",
              "      <th>0</th>\n",
              "      <td>1</td>\n",
              "      <td>6707829</td>\n",
              "      <td>15106462112002281001008202S6</td>\n",
              "      <td>cadena comercial oxxo sa de cv</td>\n",
              "      <td>15</td>\n",
              "      <td>6 a 10 personas</td>\n",
              "      <td>[1, 1, 0, 0, 0, -90, -3, -35, 42, 8, 5, 69, 65...</td>\n",
              "    </tr>\n",
              "    <tr>\n",
              "      <th>1</th>\n",
              "      <td>1</td>\n",
              "      <td>6698194</td>\n",
              "      <td>15104462112001662000008202S3</td>\n",
              "      <td>cadena comercial oxxo</td>\n",
              "      <td>15</td>\n",
              "      <td>6 a 10 personas</td>\n",
              "      <td>[1, 1, 0, 0, 0, 18, -12, -34, 32, -124, 82, 69...</td>\n",
              "    </tr>\n",
              "    <tr>\n",
              "      <th>2</th>\n",
              "      <td>1</td>\n",
              "      <td>6707885</td>\n",
              "      <td>15104462112001652000008202S4</td>\n",
              "      <td>cadena comercial oxxo</td>\n",
              "      <td>15</td>\n",
              "      <td>6 a 10 personas</td>\n",
              "      <td>[1, 1, 0, 0, 0, 66, 20, 28, 112, 113, 82, 69, ...</td>\n",
              "    </tr>\n",
              "    <tr>\n",
              "      <th>3</th>\n",
              "      <td>1</td>\n",
              "      <td>6712529</td>\n",
              "      <td>15118462112000402000008202S5</td>\n",
              "      <td>cadena comercial oxxo sa de cv</td>\n",
              "      <td>15</td>\n",
              "      <td>6 a 10 personas</td>\n",
              "      <td>[1, 1, 0, 0, 0, 40, -65, -60, 45, -125, -27, 6...</td>\n",
              "    </tr>\n",
              "    <tr>\n",
              "      <th>4</th>\n",
              "      <td>1</td>\n",
              "      <td>6698214</td>\n",
              "      <td>15104462112001702000008202S7</td>\n",
              "      <td>cadena comercial oxxo sa de cv</td>\n",
              "      <td>15</td>\n",
              "      <td>6 a 10 personas</td>\n",
              "      <td>[1, 1, 0, 0, 0, 74, 94, 78, 28, 30, 81, 69, 65...</td>\n",
              "    </tr>\n",
              "    <tr>\n",
              "      <th>...</th>\n",
              "      <td>...</td>\n",
              "      <td>...</td>\n",
              "      <td>...</td>\n",
              "      <td>...</td>\n",
              "      <td>...</td>\n",
              "      <td>...</td>\n",
              "      <td>...</td>\n",
              "    </tr>\n",
              "    <tr>\n",
              "      <th>16841</th>\n",
              "      <td>1</td>\n",
              "      <td>6289174</td>\n",
              "      <td>03003462112002521001008202S8</td>\n",
              "      <td>oxxo suc 50cvg durango lap</td>\n",
              "      <td>03</td>\n",
              "      <td>6 a 10 personas</td>\n",
              "      <td>[1, 1, 0, 0, 0, -66, 72, -33, 49, 59, 90, 57, ...</td>\n",
              "    </tr>\n",
              "    <tr>\n",
              "      <th>16842</th>\n",
              "      <td>1</td>\n",
              "      <td>6780492</td>\n",
              "      <td>03008462112005702000008202S0</td>\n",
              "      <td>oxxo suc 50dlr cabo villa lap</td>\n",
              "      <td>03</td>\n",
              "      <td>6 a 10 personas</td>\n",
              "      <td>[1, 1, 0, 0, 0, 45, 106, 37, -80, -1, -43, 57,...</td>\n",
              "    </tr>\n",
              "    <tr>\n",
              "      <th>16843</th>\n",
              "      <td>1</td>\n",
              "      <td>6797351</td>\n",
              "      <td>03003462112004641000008202S2</td>\n",
              "      <td>oxxo suc 50dyx libramiento lap</td>\n",
              "      <td>03</td>\n",
              "      <td>6 a 10 personas</td>\n",
              "      <td>[1, 1, 0, 0, 0, 30, -48, -17, 124, -56, 91, 57...</td>\n",
              "    </tr>\n",
              "    <tr>\n",
              "      <th>16844</th>\n",
              "      <td>1</td>\n",
              "      <td>6797526</td>\n",
              "      <td>03008462112005941000008202S4</td>\n",
              "      <td>oxxo suc 50drz obrera lap</td>\n",
              "      <td>03</td>\n",
              "      <td>6 a 10 personas</td>\n",
              "      <td>[1, 1, 0, 0, 0, -72, 58, -62, 102, -84, -52, 5...</td>\n",
              "    </tr>\n",
              "    <tr>\n",
              "      <th>16845</th>\n",
              "      <td>1</td>\n",
              "      <td>6288513</td>\n",
              "      <td>03008462112002721001008202S3</td>\n",
              "      <td>oxxo suc 50dwg delegacion lap</td>\n",
              "      <td>03</td>\n",
              "      <td>6 a 10 personas</td>\n",
              "      <td>[1, 1, 0, 0, 0, -26, -36, 61, 105, 116, -48, 5...</td>\n",
              "    </tr>\n",
              "  </tbody>\n",
              "</table>\n",
              "<p>16846 rows × 7 columns</p>\n",
              "</div>\n",
              "      <button class=\"colab-df-convert\" onclick=\"convertToInteractive('df-c9bdcd75-49fc-4ff5-b7bb-beced4c98032')\"\n",
              "              title=\"Convert this dataframe to an interactive table.\"\n",
              "              style=\"display:none;\">\n",
              "        \n",
              "  <svg xmlns=\"http://www.w3.org/2000/svg\" height=\"24px\"viewBox=\"0 0 24 24\"\n",
              "       width=\"24px\">\n",
              "    <path d=\"M0 0h24v24H0V0z\" fill=\"none\"/>\n",
              "    <path d=\"M18.56 5.44l.94 2.06.94-2.06 2.06-.94-2.06-.94-.94-2.06-.94 2.06-2.06.94zm-11 1L8.5 8.5l.94-2.06 2.06-.94-2.06-.94L8.5 2.5l-.94 2.06-2.06.94zm10 10l.94 2.06.94-2.06 2.06-.94-2.06-.94-.94-2.06-.94 2.06-2.06.94z\"/><path d=\"M17.41 7.96l-1.37-1.37c-.4-.4-.92-.59-1.43-.59-.52 0-1.04.2-1.43.59L10.3 9.45l-7.72 7.72c-.78.78-.78 2.05 0 2.83L4 21.41c.39.39.9.59 1.41.59.51 0 1.02-.2 1.41-.59l7.78-7.78 2.81-2.81c.8-.78.8-2.07 0-2.86zM5.41 20L4 18.59l7.72-7.72 1.47 1.35L5.41 20z\"/>\n",
              "  </svg>\n",
              "      </button>\n",
              "      \n",
              "  <style>\n",
              "    .colab-df-container {\n",
              "      display:flex;\n",
              "      flex-wrap:wrap;\n",
              "      gap: 12px;\n",
              "    }\n",
              "\n",
              "    .colab-df-convert {\n",
              "      background-color: #E8F0FE;\n",
              "      border: none;\n",
              "      border-radius: 50%;\n",
              "      cursor: pointer;\n",
              "      display: none;\n",
              "      fill: #1967D2;\n",
              "      height: 32px;\n",
              "      padding: 0 0 0 0;\n",
              "      width: 32px;\n",
              "    }\n",
              "\n",
              "    .colab-df-convert:hover {\n",
              "      background-color: #E2EBFA;\n",
              "      box-shadow: 0px 1px 2px rgba(60, 64, 67, 0.3), 0px 1px 3px 1px rgba(60, 64, 67, 0.15);\n",
              "      fill: #174EA6;\n",
              "    }\n",
              "\n",
              "    [theme=dark] .colab-df-convert {\n",
              "      background-color: #3B4455;\n",
              "      fill: #D2E3FC;\n",
              "    }\n",
              "\n",
              "    [theme=dark] .colab-df-convert:hover {\n",
              "      background-color: #434B5C;\n",
              "      box-shadow: 0px 1px 3px 1px rgba(0, 0, 0, 0.15);\n",
              "      filter: drop-shadow(0px 1px 2px rgba(0, 0, 0, 0.3));\n",
              "      fill: #FFFFFF;\n",
              "    }\n",
              "  </style>\n",
              "\n",
              "      <script>\n",
              "        const buttonEl =\n",
              "          document.querySelector('#df-c9bdcd75-49fc-4ff5-b7bb-beced4c98032 button.colab-df-convert');\n",
              "        buttonEl.style.display =\n",
              "          google.colab.kernel.accessAllowed ? 'block' : 'none';\n",
              "\n",
              "        async function convertToInteractive(key) {\n",
              "          const element = document.querySelector('#df-c9bdcd75-49fc-4ff5-b7bb-beced4c98032');\n",
              "          const dataTable =\n",
              "            await google.colab.kernel.invokeFunction('convertToInteractive',\n",
              "                                                     [key], {});\n",
              "          if (!dataTable) return;\n",
              "\n",
              "          const docLinkHtml = 'Like what you see? Visit the ' +\n",
              "            '<a target=\"_blank\" href=https://colab.research.google.com/notebooks/data_table.ipynb>data table notebook</a>'\n",
              "            + ' to learn more about interactive tables.';\n",
              "          element.innerHTML = '';\n",
              "          dataTable['output_type'] = 'display_data';\n",
              "          await google.colab.output.renderOutput(dataTable, element);\n",
              "          const docLink = document.createElement('div');\n",
              "          docLink.innerHTML = docLinkHtml;\n",
              "          element.appendChild(docLink);\n",
              "        }\n",
              "      </script>\n",
              "    </div>\n",
              "  </div>\n",
              "  "
            ]
          },
          "metadata": {},
          "execution_count": 22
        }
      ]
    },
    {
      "cell_type": "code",
      "source": [
        "# Dividir los datos en variables x, y\n",
        "x = dfOXXO[['clee', 'nom_estab', 'cve_ent', 'per_ocu', 'geometry']]\n",
        "y = dfOXXO['klass']\n"
      ],
      "metadata": {
        "id": "_gS7n9HqIDXk"
      },
      "execution_count": null,
      "outputs": []
    },
    {
      "cell_type": "markdown",
      "source": [
        "# Separación de datos"
      ],
      "metadata": {
        "id": "MFoeizBNwwAs"
      }
    },
    {
      "cell_type": "code",
      "source": [
        "# Dividir el dataset \n",
        "from sklearn.model_selection import train_test_split\n",
        "\n",
        "# Modelo prueba 20% y entrenamiento 80%\n",
        "x_train, x_test, y_train, y_test = train_test_split(x, y, test_size = 0.2, random_state = 0)"
      ],
      "metadata": {
        "id": "TOlGIEGGDetY"
      },
      "execution_count": null,
      "outputs": []
    },
    {
      "cell_type": "markdown",
      "source": [
        "# Necesidad de un enfoque orientado a Big Data"
      ],
      "metadata": {
        "id": "M9NRBi19w0vu"
      }
    },
    {
      "cell_type": "markdown",
      "source": [
        "De acuerdo a [Oracle](https://www.oracle.com/big-data/what-is-big-data/), la definicion de Big Data se refiere a que nuestro conjunto de datos contiene gran variedad, es de un gran volumen y viene a una gran velocidad. Indica que existen tantos datos que el procesamiento de datos tradicional no es suficiente para poder procesar esta exagerada cantidad de datos.  \n",
        "  \n",
        "Despues de este analisis, comprendemos la cantidad tan extensa de datos que nosotros tenemos en nuestra posesion. Tiene una gran variedad, asi como un gran volumen, y si necesitamos que esta pueda ser procesada, necesita ser leida a gran velocidad.  \n",
        "  \n",
        "Es necesario un enfoque orientado a Big Data, y herramientas como ApacheSpark y PySpark son necesarias si queremos sacar cualquier conclusion al respecto de nuestros datos."
      ],
      "metadata": {
        "id": "U7J4ajlXBURI"
      }
    },
    {
      "cell_type": "markdown",
      "source": [
        "![](https://www.optalitix.com/wp-content/uploads/2020/01/three-Vs-of-big-data.jpg)"
      ],
      "metadata": {
        "id": "bL8kdTzlF2zQ"
      }
    }
  ]
}